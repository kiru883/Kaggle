{
  "nbformat": 4,
  "nbformat_minor": 0,
  "metadata": {
    "colab": {
      "name": "feature_engineering.ipynb",
      "provenance": [],
      "authorship_tag": "ABX9TyM5NkCmXhuvFcukEA4TgTq7",
      "include_colab_link": true
    },
    "kernelspec": {
      "name": "python3",
      "display_name": "Python 3"
    }
  },
  "cells": [
    {
      "cell_type": "markdown",
      "metadata": {
        "id": "view-in-github",
        "colab_type": "text"
      },
      "source": [
        "<a href=\"https://colab.research.google.com/github/kiru883/Kaggle-IEEE-CIS-Fraud-Detection/blob/master/feature_engineering.ipynb\" target=\"_parent\"><img src=\"https://colab.research.google.com/assets/colab-badge.svg\" alt=\"Open In Colab\"/></a>"
      ]
    },
    {
      "cell_type": "code",
      "metadata": {
        "id": "agAx8fROcqmy",
        "colab_type": "code",
        "colab": {
          "base_uri": "https://localhost:8080/",
          "height": 122
        },
        "outputId": "17510871-1a30-4184-d076-9fd5d6e16fcd"
      },
      "source": [
        "from google.colab import drive, files\n",
        "drive.mount('/content/gdrive')\n",
        "\n",
        "import warnings\n",
        "warnings.filterwarnings(\"ignore\")\n",
        "\n",
        "import matplotlib.pyplot as plt\n",
        "import seaborn as sns\n",
        "import numpy as np\n",
        "import pandas as pd\n",
        "import lightgbm as lgb\n",
        "import gc\n",
        "from sklearn.preprocessing import LabelEncoder\n",
        "from sklearn.metrics import roc_auc_score\n",
        "from sklearn.model_selection import TimeSeriesSplit, train_test_split"
      ],
      "execution_count": 1,
      "outputs": [
        {
          "output_type": "stream",
          "text": [
            "Go to this URL in a browser: https://accounts.google.com/o/oauth2/auth?client_id=947318989803-6bn6qk8qdgf4n4g3pfee6491hc0brc4i.apps.googleusercontent.com&redirect_uri=urn%3aietf%3awg%3aoauth%3a2.0%3aoob&response_type=code&scope=email%20https%3a%2f%2fwww.googleapis.com%2fauth%2fdocs.test%20https%3a%2f%2fwww.googleapis.com%2fauth%2fdrive%20https%3a%2f%2fwww.googleapis.com%2fauth%2fdrive.photos.readonly%20https%3a%2f%2fwww.googleapis.com%2fauth%2fpeopleapi.readonly\n",
            "\n",
            "Enter your authorization code:\n",
            "··········\n",
            "Mounted at /content/gdrive\n"
          ],
          "name": "stdout"
        }
      ]
    },
    {
      "cell_type": "markdown",
      "metadata": {
        "id": "qk84hK2pjZC-",
        "colab_type": "text"
      },
      "source": [
        "# Load datasets"
      ]
    },
    {
      "cell_type": "code",
      "metadata": {
        "id": "JOtPbr0idRx9",
        "colab_type": "code",
        "colab": {}
      },
      "source": [
        "#####LOAD DATASETS\n",
        "# train\n",
        "data_trainTR = pd.read_csv(\"/content/gdrive/My Drive/frauds_datasets/train_transaction.csv\")\n",
        "data_trainID = pd.read_csv(\"/content/gdrive/My Drive/frauds_datasets/train_identity.csv\")\n",
        "data_trainID = pd.concat([data_trainTR['TransactionID'].rename(data_trainTR['TransactionID'], axis='index'),\n",
        "                          data_trainID.rename(data_trainID['TransactionID'], axis='index')], axis=1).reset_index(drop=True)\n",
        "# test\n",
        "data_testTR = pd.read_csv(\"/content/gdrive/My Drive/frauds_datasets/test_transaction.csv\")\n",
        "data_testID = pd.read_csv(\"/content/gdrive/My Drive/frauds_datasets/test_identity.csv\")\n",
        "data_testID = pd.concat([data_testTR['TransactionID'].rename(data_testTR['TransactionID'], axis='index'),\n",
        "                          data_testID.rename(data_testID['TransactionID'], axis='index')], axis=1).reset_index(drop=True)     "
      ],
      "execution_count": 0,
      "outputs": []
    },
    {
      "cell_type": "markdown",
      "metadata": {
        "id": "yOEIUo-PjTiI",
        "colab_type": "text"
      },
      "source": [
        "# Memory usage reduction function"
      ]
    },
    {
      "cell_type": "code",
      "metadata": {
        "id": "JkaII_HMgHR3",
        "colab_type": "code",
        "colab": {}
      },
      "source": [
        "def reduce_mem_usage(df):\n",
        "    mem_usage_before = np.around(df.memory_usage().sum() / 1028**2)\n",
        "    print(f\"Memory usage before: {mem_usage_before} MB\")\n",
        "\n",
        "    for column in df.columns:\n",
        "        integer_float = df[column].dropna().apply(float.is_integer).all()\n",
        "\n",
        "        if df[column].dtype == 'float':\n",
        "            mn, mx = df[column].min(), df[column].max()\n",
        "            if mn > -2147483648 or mx < 2147483648:\n",
        "                df[column] = df[column].astype('float32')\n",
        "\n",
        "        elif df[column].dtype == 'int':\n",
        "            mn, mx = df[column].min(), df[column].max()\n",
        "            if mn > -128 or mx < 127:\n",
        "                df[column] = df[column].astype('int8')\n",
        "            elif mn > -32000 or mx < 32000:\n",
        "                df[column] = df[column].astype('int16')\n",
        "            elif mn > -2147483648 or mx < 2147483648:\n",
        "                df[column] = df[column].astype('int32')\n",
        "\n",
        "        elif df[column].dtype == 'object':\n",
        "            df[column] = df[column].astype('category')\n",
        "\n",
        "    mem_usage_after = np.around(df.memory_usage().sum() / 1028**2)\n",
        "    print(f\"Memory usage after: {mem_usage_after} MB\")\n",
        "    print(f\"Optimization: {np.around(100*(1 - mem_usage_after/mem_usage_before))}%\")\n",
        "\n",
        "    return df"
      ],
      "execution_count": 0,
      "outputs": []
    },
    {
      "cell_type": "markdown",
      "metadata": {
        "id": "saMr3JXpuYuu",
        "colab_type": "text"
      },
      "source": [
        "# Main pipelines"
      ]
    },
    {
      "cell_type": "code",
      "metadata": {
        "id": "APSMQ9PMgP6N",
        "colab_type": "code",
        "colab": {}
      },
      "source": [
        "#all my hypotises\n",
        "def pipeline(df):\n",
        "    "
      ],
      "execution_count": 0,
      "outputs": []
    },
    {
      "cell_type": "code",
      "metadata": {
        "id": "erur4iGWhEZt",
        "colab_type": "code",
        "colab": {
          "base_uri": "https://localhost:8080/",
          "height": 68
        },
        "outputId": "60c266ea-fc92-40a7-cd82-fa15b5ae484d"
      },
      "source": [
        ""
      ],
      "execution_count": 33,
      "outputs": [
        {
          "output_type": "stream",
          "text": [
            "Memory usage before: 1761.0 MB\n",
            "Memory usage after: 851.0 MB\n",
            "Optimization: 52.0%\n"
          ],
          "name": "stdout"
        }
      ]
    },
    {
      "cell_type": "code",
      "metadata": {
        "id": "TxynQvGrtY0c",
        "colab_type": "code",
        "colab": {}
      },
      "source": [
        ""
      ],
      "execution_count": 0,
      "outputs": []
    }
  ]
}