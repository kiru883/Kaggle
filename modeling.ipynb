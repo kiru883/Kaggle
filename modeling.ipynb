{
  "nbformat": 4,
  "nbformat_minor": 0,
  "metadata": {
    "colab": {
      "name": "modeling.ipynb",
      "provenance": [],
      "collapsed_sections": [
        "YL7TmxTu0Br4",
        "Ucdkx75dp57V"
      ],
      "machine_shape": "hm",
      "authorship_tag": "ABX9TyMxOAzohPS/DSoq7TFGwHLN",
      "include_colab_link": true
    },
    "kernelspec": {
      "name": "python3",
      "display_name": "Python 3"
    }
  },
  "cells": [
    {
      "cell_type": "markdown",
      "metadata": {
        "id": "view-in-github",
        "colab_type": "text"
      },
      "source": [
        "<a href=\"https://colab.research.google.com/github/kiru883/Kaggle-IEEE-CIS-Fraud-Detection/blob/master/modeling.ipynb\" target=\"_parent\"><img src=\"https://colab.research.google.com/assets/colab-badge.svg\" alt=\"Open In Colab\"/></a>"
      ]
    },
    {
      "cell_type": "code",
      "metadata": {
        "id": "oN4EoWiliwkO",
        "colab_type": "code",
        "outputId": "763a2ffe-6558-4c3f-b4d7-c85699828525",
        "colab": {
          "base_uri": "https://localhost:8080/",
          "height": 122
        }
      },
      "source": [
        "from google.colab import drive, files\n",
        "drive.mount('/content/gdrive')\n",
        "\n",
        "import warnings\n",
        "warnings.filterwarnings(\"ignore\")\n",
        "\n",
        "from hyperopt import hp, fmin, tpe\n",
        "from hyperopt.pyll import scope\n",
        "import itertools\n",
        "import matplotlib.pyplot as plt\n",
        "import seaborn as sns\n",
        "import numpy as np\n",
        "import pandas as pd\n",
        "import lightgbm as lgb\n",
        "import joblib\n",
        "import gc\n",
        "from sklearn.linear_model import LinearRegression\n",
        "from sklearn.preprocessing import LabelEncoder\n",
        "from sklearn.metrics import roc_auc_score\n",
        "from sklearn.model_selection import TimeSeriesSplit, train_test_split, KFold\n",
        "from sklearn.feature_selection import RFECV"
      ],
      "execution_count": 0,
      "outputs": [
        {
          "output_type": "stream",
          "text": [
            "Go to this URL in a browser: https://accounts.google.com/o/oauth2/auth?client_id=947318989803-6bn6qk8qdgf4n4g3pfee6491hc0brc4i.apps.googleusercontent.com&redirect_uri=urn%3aietf%3awg%3aoauth%3a2.0%3aoob&response_type=code&scope=email%20https%3a%2f%2fwww.googleapis.com%2fauth%2fdocs.test%20https%3a%2f%2fwww.googleapis.com%2fauth%2fdrive%20https%3a%2f%2fwww.googleapis.com%2fauth%2fdrive.photos.readonly%20https%3a%2f%2fwww.googleapis.com%2fauth%2fpeopleapi.readonly\n",
            "\n",
            "Enter your authorization code:\n",
            "··········\n",
            "Mounted at /content/gdrive\n"
          ],
          "name": "stdout"
        }
      ]
    },
    {
      "cell_type": "markdown",
      "metadata": {
        "id": "lh36BSBiqacG",
        "colab_type": "text"
      },
      "source": [
        "# Load dataset"
      ]
    },
    {
      "cell_type": "code",
      "metadata": {
        "id": "LhzQBABnqYQI",
        "colab_type": "code",
        "colab": {}
      },
      "source": [
        "#####LOAD DATASETS\n",
        "# train\n",
        "data_trainTR = pd.read_csv(\"/content/gdrive/My Drive/frauds_datasets/train_transaction.csv\")\n",
        "data_trainID = pd.read_csv(\"/content/gdrive/My Drive/frauds_datasets/train_identity.csv\")\n",
        "\n",
        "# test\n",
        "data_testTR = pd.read_csv(\"/content/gdrive/My Drive/frauds_datasets/test_transaction.csv\")\n",
        "data_testID = pd.read_csv(\"/content/gdrive/My Drive/frauds_datasets/test_identity.csv\") "
      ],
      "execution_count": 0,
      "outputs": []
    },
    {
      "cell_type": "markdown",
      "metadata": {
        "id": "4AvgtMZOqklG",
        "colab_type": "text"
      },
      "source": [
        "# Memory usage reduction function and etc."
      ]
    },
    {
      "cell_type": "code",
      "metadata": {
        "id": "bTlcuDUWqgR1",
        "colab_type": "code",
        "colab": {}
      },
      "source": [
        "#optimize memory\n",
        "def reduce_mem_usage(df):\n",
        "    mem_usage_before = np.around(df.memory_usage().sum() / 1028**2)\n",
        "    print(f\"Memory usage before: {mem_usage_before} MB\")\n",
        "\n",
        "    for column in df.columns:\n",
        "        if df[column].dtype == 'float':\n",
        "            mn, mx = df[column].min(), df[column].max()\n",
        "            if mn > -2147483648 or mx < 2147483648:\n",
        "                df[column] = df[column].astype('float32')\n",
        "\n",
        "        elif df[column].dtype == 'int':\n",
        "            mn, mx = df[column].min(), df[column].max()\n",
        "            if mn > -128 or mx < 127:\n",
        "                df[column] = df[column].astype('int8')\n",
        "            elif mn > -32000 or mx < 32000:\n",
        "                df[column] = df[column].astype('int16')\n",
        "            elif mn > -2147483648 or mx < 2147483648:\n",
        "                df[column] = df[column].astype('int32')\n",
        "\n",
        "        elif df[column].dtype == 'object':\n",
        "            df[column] = df[column].astype('category')\n",
        "\n",
        "    mem_usage_after = np.around(df.memory_usage().sum() / 1028**2)\n",
        "    print(f\"Memory usage after: {mem_usage_after} MB\")\n",
        "    print(f\"Optimization: {np.around(100*(1 - mem_usage_after/mem_usage_before))}%\")\n",
        "\n",
        "    return df\n",
        "\n",
        "# validation score, TimeSeriesSplit(5 folds), KFolds(3 fold), 3/4 month train & 1/4 test score\n",
        "def valid_scores(model, df_x, y):\n",
        "    y = y.to_numpy().reshape(-1, 1)\n",
        "    X = df_x.to_numpy()\n",
        "    scores = dict()\n",
        "\n",
        "    #TimeSeriesSplit 5\n",
        "    TTS5 = TimeSeriesSplit()\n",
        "    tts5_scores = []\n",
        "    for train_ind, test_ind in TTS5.split(X):\n",
        "        train_x, test_x = X[train_ind], X[test_ind]\n",
        "        train_y, test_y = y[train_ind], y[test_ind]\n",
        "        model.fit(train_x, train_y)\n",
        "        tts5_scores.append(roc_auc_score(test_y, model.predict_proba(test_x)[:, 1]))\n",
        "    scores['TTS5'] = sum(tts5_scores) / 5\n",
        "\n",
        "    #first 2 last 2\n",
        "    fold_len = len(X) // 6\n",
        "    train_x, test_x = X[:2*fold_len], X[len(X)-(2*fold_len):]\n",
        "    train_y, test_y = y[:2*fold_len], y[len(X)-(2*fold_len):]\n",
        "    model.fit(train_x, train_y)\n",
        "    scores['First2Last2_BEST_VALIDATION'] = roc_auc_score(test_y, model.predict_proba(test_x)[:, 1])\n",
        "\n",
        "    #first 2 month, 1 miss, 2 test\n",
        "    fold_len = len(X) // 6\n",
        "    train_x, test_x = X[:2*fold_len], X[3*fold_len:5*fold_len]\n",
        "    train_y, test_y = y[:2*fold_len], y[3*fold_len:5*fold_len]\n",
        "    model.fit(train_x, train_y)\n",
        "    scores['First2Miss1Next2'] = roc_auc_score(test_y, model.predict_proba(test_x)[:, 1])\n",
        "\n",
        "    #print scores\n",
        "    print(\"/\"*30)\n",
        "    for k in scores.keys():\n",
        "        print(f\"{k}: {scores[k]}\")\n",
        "    print(f\"Avg. score: {sum(scores.values()) / len(scores)}\")\n",
        "    print(\"/\"*30)\n",
        "\n",
        "#get predict \n",
        "def get_predict(model, df, ids, name='predicted.csv'):\n",
        "    pred = model.predict_proba(df.to_numpy())[:, 1]\n",
        "    new_df = pd.concat([ids, pd.Series(data=pred)], axis=1)\n",
        "    #new_df = new_df.drop('Unnamed: 0', axis=1)\n",
        "    new_df.columns = ['TransactionID', 'isFraud']\n",
        "    new_df.to_csv(name, index=False)\n"
      ],
      "execution_count": 0,
      "outputs": []
    },
    {
      "cell_type": "markdown",
      "metadata": {
        "id": "F3u4HIPY07Kn",
        "colab_type": "text"
      },
      "source": [
        "# Main pipeline"
      ]
    },
    {
      "cell_type": "code",
      "metadata": {
        "id": "KwxWOR_W09Nd",
        "colab_type": "code",
        "colab": {}
      },
      "source": [
        "#with all my hypotises\n",
        "def pipeline(data_TR, data_ID):\n",
        "    #useful functions\n",
        "    def decimal_places(x):\n",
        "        decimal_str = str(x)[str(x).find(\".\") +1:]\n",
        "        if decimal_str == \"0\":\n",
        "            return 0\n",
        "        decimal_len = len(str(int(decimal_str[::-1])))\n",
        "        return decimal_len if decimal_len < 5 else 5\n",
        "    \n",
        "    def email_map(email):\n",
        "        mapping= {'frontier.com':'frontier','frontiernet.net':'frontier','gmail':'gmail','gmail.com':'gmail','hotmail.co.uk':'hotmail','hotmail.com':'Microsoft','hotmail.de':'Microsoft',\n",
        "            'hotmail.es':'Microsoft','hotmail.fr':'Microsoft','icloud.com':'Apple','live.com':'Microsoft','live.com.mx':'Microsoft','live.fr':'Microsoft','mac.com':'Apple',\n",
        "            'netzero.com':'Netzero','netzero.net':'Netzero','outlook.com':'Microsoft','outlook.es':'Microsoft', 'yahoo.co.jp':'Yahoo','yahoo.co.uk':'Yahoo','yahoo.com':'Yahoo',\n",
        "            'yahoo.com.mx':'Yahoo','yahoo.de':'Yahoo','yahoo.es':'Yahoo','yahoo.fr':'Yahoo','ymail.com':'Yahoo', 'scranton.edu':'Scranton'}\n",
        "        if email in mapping.keys():\n",
        "            return mapping[email]\n",
        "        elif pd.isnull(email):\n",
        "            return 'NAN'\n",
        "        else:\n",
        "            return 'other'\n",
        "\n",
        "    def parse_id30(x):\n",
        "        devices_30_list = ['windows', 'ios', 'mac', 'android', 'linux']\n",
        "        if pd.isnull(x): \n",
        "            return 'NAN'\n",
        "        elif x.split()[0].lower() in devices_30_list: \n",
        "            return x.split()[0].lower()\n",
        "        else:\n",
        "            return 'NAN'\n",
        "        \n",
        "    def parse_id31(x):\n",
        "        devices_30_set = {'chrome', 'safari', 'ie', 'edge', 'firefox'}\n",
        "        if pd.isnull(x): \n",
        "            return 'NAN'\n",
        "        result = list(devices_30_set & set(x.split()))\n",
        "        if len(result) == 0:\n",
        "            return 'other'\n",
        "        else:\n",
        "            return result[0]\n",
        "        \n",
        "    def parse_id33(x):\n",
        "        devices_33_list = ['1334x750', '2436x1125', '1366x768', '1920x1080', '2208x1242']\n",
        "        if pd.isnull(x):\n",
        "            return 'NAN'\n",
        "        if x in devices_33_list:\n",
        "            return x\n",
        "        else:\n",
        "            return 'other'\n",
        "        \n",
        "    def parse_deviceinfo(x):\n",
        "        devices_info_list = ['windows', 'macos', 'ios', 'trident/7.0']\n",
        "        if pd.isnull(x):\n",
        "            return 'NAN'\n",
        "        x = x.split()[0].lower()\n",
        "        if x in devices_info_list:\n",
        "            return x\n",
        "        else:\n",
        "            return 'other'\n",
        "\n",
        "    df = pd.concat([data_TR.set_index('TransactionID'), data_ID.set_index('TransactionID')], axis=1).reset_index()\n",
        "    del data_TR, data_ID\n",
        "\n",
        "    #main pipeline\n",
        "    df['month'] = df['TransactionDT'] // (86400 * 30)\n",
        "    # transactionAmt features\n",
        "    df['TransactionAmt'] = df['TransactionAmt'].fillna(-999)\n",
        "    df['transaction_month'] = df.groupby(['month'])['TransactionAmt'].transform('mean') - df['TransactionAmt']\n",
        "    df['trans_meanq'] = pd.qcut(df['TransactionAmt'].median() - df['TransactionAmt'], [0.1, 0.3, 0.5, 0.7, 0.9], labels=False).fillna(-1)\n",
        "    df['trans_std_negative'] = np.where((df['transaction_month'] < 0), 1, 0)\n",
        "    df['transaction_std'] = df['transaction_month'] / df.groupby(['month'])['TransactionAmt'].transform('std')\n",
        "    df['transaction_stdq'] = (df['TransactionAmt'].median() - df['TransactionAmt']) / df['TransactionAmt'].std()\n",
        "    df['transaction_stdq'] = pd.qcut(df['transaction_stdq'], [0.1, 0.3, 0.5, 0.7, 0.9], labels=False).fillna(-1)\n",
        "    df['transaction_digits'] = df['TransactionAmt'].map(decimal_places)\n",
        "    df['transaction_count'] = df['TransactionAmt'].map(df['TransactionAmt'].value_counts())\n",
        "    df['transaction_count'] = pd.qcut(df['transaction_count'], [0.1, 0.3, 0.5, 0.7, 0.9], labels=False).fillna(-1)\n",
        "    high_tr = df['TransactionAmt'].quantile([0.9]).to_list()[0]\n",
        "    lower_tr = df['TransactionAmt'].quantile([0.1]).to_list()[0]\n",
        "    df['outlier'] = np.where((df['TransactionAmt'] > high_tr) | (df['TransactionAmt'] < lower_tr), 1, 0)\n",
        "    df['trans_hour'] = (df['TransactionDT'] % 86400) // 3600\n",
        "    df['trans_cent'] = df['TransactionAmt'] % 1\n",
        "\n",
        "    #ProductCd\n",
        "    df['ProductCD'] = df['ProductCD'].fillna('NAN')\n",
        "    df['prod_stdq'] = pd.qcut(df.groupby([\"ProductCD\"])['TransactionAmt'].transform('median') - df['TransactionAmt'], [0.1, 0.2, 0.3, 0.4, 0.5, 0.6, 0.7, 0.8, 0.9], labels=False).fillna(-1)\n",
        "    df['ProductCD'] = LabelEncoder().fit_transform(df['ProductCD'])\n",
        "    \n",
        "    #card1\n",
        "    df['card1'] = df['card1'].fillna(-999)\n",
        "    df['card1_count'] = df['card1'].map(df['card1'].value_counts())\n",
        "    df['card1_count_q'] = pd.qcut(df['card1_count'], [0.05, 0.2, 0.4, 0.6, 0.8, 0.95], labels=False).fillna(-1)\n",
        "    df['card1_frequency'] = df['card1'].map(df['card1'].value_counts() / df['card1'].shape[0])\n",
        "    df['card1_frequency'] = pd.qcut(df['card1_frequency'], [0.05, 0.2, 0.4, 0.6, 0.8, 0.95], labels=False).fillna(-1)\n",
        "    df['trans_card1_mean'] = df.groupby(['card1'])['TransactionAmt'].transform('mean') - df['TransactionAmt']\n",
        "    df['trans_card1_mean_rel'] = df.groupby(['card1'])['TransactionAmt'].transform('mean') / df['TransactionAmt']\n",
        "    df['card1_mean'] = df.groupby(['month'])['card1'].transform('mean') - df['card1']\n",
        "    df['card1_std'] = df.groupby(['month'])['card1'].transform('std') / df['card1_mean'] \n",
        "    df['card1_addr1_mean'] = df['card1'].astype('str') + '_' + df['addr1'].astype('str')\n",
        "    df['card1_addr1_mean'] = df.groupby(['card1_addr1_mean'])['TransactionAmt'].transform('mean') - df['TransactionAmt']\n",
        "\n",
        "    #card2\n",
        "    df['card2'] = df['card2'].fillna(-999)\n",
        "    df['card2_count'] = df['card2'].map(df['card2'].value_counts())\n",
        "    df['card2_out'] = pd.qcut(df['card2_count'], [0.05, 0.15, 0.85, 0.95], labels=False).fillna(-1)\n",
        "    df['card2_q'] = pd.qcut(df['card2_count'], [0.1, 0.2, 0.3, 0.4, 0.5, 0.6, 0.7, 0.8, 0.9], labels=False).fillna(-1)\n",
        "\n",
        "    #card3\n",
        "    df['card3'] = df['card3'].fillna(-999)\n",
        "    df['card3_o'] = np.where((df['card3'] < df['card3'].quantile(0.1)) | (df['card3'] > df['card3'].quantile(0.9)), 1, 0)\n",
        "    \n",
        "    #card4\n",
        "    df['card4'] = df['card4'].fillna('NAN')\n",
        "    df['card4_count'] = df['card4'].map(df['card4'].value_counts())\n",
        "    df['trans_card_mean'] = df.groupby(['card4'])['TransactionAmt'].transform('mean') - df['TransactionAmt']\n",
        "    df['trans_card_mean_q'] = pd.qcut(df['trans_card_mean'], [0.1, 0.2, 0.3, 0.4, 0.5, 0.6, 0.7, 0.8, 0.9], labels=False).fillna(-1)\n",
        "    df['trans_card_std'] = df.groupby(['card4'])['TransactionAmt'].transform('std') / df['trans_card_mean']\n",
        "    df['trans_card_std_q'] = pd.qcut(df['trans_card_std'], [0.1, 0.2, 0.3, 0.4, 0.5, 0.6, 0.7, 0.8, 0.9], labels=False).fillna(-1)\n",
        "    df['card4_trans_mean'] = df['TransactionAmt'].astype('str') + '_' + df['card4'].astype('str')\n",
        "    df['card4_trans_mean'] = df.groupby(['card4_trans_mean'])['TransactionAmt'].transform('mean') - df['TransactionAmt']\n",
        "    df['card4'] = LabelEncoder().fit_transform(df['card4'])\n",
        "\n",
        "    #card5\n",
        "    df['card5'] = df['card5'].fillna(-999)\n",
        "    df['card5_o'] = np.where(((df['card5'] < df['card5'].quantile(0.05)) | (df['card5'] > df['card5'].quantile(0.95))), 1, 0)\n",
        "\n",
        "    #card6\n",
        "    df['card6'] = df['card6'].fillna('NAN')\n",
        "    df['trans_card_med'] = df.groupby(['card6'])['TransactionAmt'].transform('median') - df['TransactionAmt']\n",
        "    df['card6'] = LabelEncoder().fit_transform(df['card6'])\n",
        "\n",
        "    #addr1\n",
        "    df['addr1'] = df['addr1'].fillna(-999)\n",
        "    df['addr1_isnull'] = df['addr1'].isnull().astype(int)\n",
        "    df['addr1_frequency'] = df['addr1'].map(df['addr1'].value_counts())\n",
        "    df['addr_trans'] = df.groupby(['addr1'])['TransactionAmt'].transform('median') - df['TransactionAmt']\n",
        "    df['addr_trans_q'] = pd.qcut(df['addr_trans'], [0.1, 0.2, 0.3, 0.4, 0.5, 0.6, 0.7, 0.8, 0.9], labels=False).fillna(-1)\n",
        "    df['addr_card_med'] = df.groupby(['addr1'])['card1'].transform('median') - df['card1']\n",
        "    df['addr_card'] = df.groupby(['addr1'])['card1'].transform('median') - df['card1']\n",
        "    df['addr_card_q'] = pd.qcut(df['addr_card'], [0.1, 0.2, 0.3, 0.4, 0.5, 0.6, 0.7, 0.8, 0.9], labels=False).fillna(-1)\n",
        "    df['addrcard'] = df['addr1'].astype(str) + \"_\" + df['card1'].astype(str)\n",
        "    df['addrcard'] = LabelEncoder().fit_transform(df['addrcard'])\n",
        "\n",
        "    #addr2 & dist1 & dist2\n",
        "    df['addr2'] = df['addr2'].fillna(-999)\n",
        "    df['dist1'] = df['dist1'].fillna(-999)\n",
        "    df['dist2'] = df['dist2'].fillna(-999)\n",
        "\n",
        "    #p_emaildomain\n",
        "    df['P_emaildomain'] = LabelEncoder().fit_transform(df['P_emaildomain'].map(email_map))\n",
        "\n",
        "    #r_emaildomain\n",
        "    df['R_emaildomain'] = LabelEncoder().fit_transform(df['R_emaildomain'].map(email_map))\n",
        "\n",
        "    #Cs\n",
        "    for Ci in range(1, 15):\n",
        "        c = \"C\" + str(Ci)\n",
        "        df[c] = df[c].fillna(-999)\n",
        "        df[c + '_trans_div'] = df.groupby([c])['TransactionAmt'].transform('median') - df['TransactionAmt']\n",
        "        df[c + '_trans_div_q'] = pd.qcut(df[c + '_trans_div'], [0.1, 0.2, 0.3, 0.4, 0.5, 0.6, 0.7, 0.8, 0.9], labels=False).fillna(-1)\n",
        "\n",
        "    #Ds\n",
        "    for Di in range(1, 16):\n",
        "        d = \"D\" + str(Di)\n",
        "        df[d] = df[d].fillna(-999)\n",
        "    \n",
        "    #Ms\n",
        "    for Mi in range(1, 10):\n",
        "        m = \"M\" + str(Mi)\n",
        "        df[m] = df[m].fillna(\"NAN\")\n",
        "        df[m] = LabelEncoder().fit_transform(df[m])\n",
        "\n",
        "    #Vs\n",
        "    for Vi in range(1, 340):\n",
        "        v = \"V\" + str(Vi)\n",
        "        df[v] = df[v].fillna(-999)\n",
        "\n",
        "    #ids\n",
        "    for Ii in range(1, 39):\n",
        "        i = \"id_0\" if Ii < 10 else \"id_\"\n",
        "        i += str(Ii)\n",
        "        if df[i].dtype == 'object':\n",
        "            if i == \"id_30\":\n",
        "                df[i] = df[i].map(parse_id30)\n",
        "            elif i == \"id_31\":\n",
        "                df[i] = df[i].map(parse_id31)\n",
        "            elif i == 'id_33':\n",
        "                df[i] = df[i].map(parse_id33)\n",
        "            df[i] = df[i].fillna('NAN')\n",
        "            df[i] = LabelEncoder().fit_transform(df[i])\n",
        "        else:\n",
        "            df[i] = df[i].fillna(-999)\n",
        "\n",
        "    #test functions\n",
        "    features = ['TransactionAmt', 'card1', 'card2', 'card3', 'card4', 'card5', 'card6', 'D15', 'C13', 'addr1', 'dist1', 'R_emaildomain', 'M2', 'M4', 'trans_hour']\n",
        "    features_combinations = list(itertools.combinations(features, 2))\n",
        "    for f1, f2 in features_combinations:\n",
        "        feature_name = f1 + '_' + f2\n",
        "        df[feature_name] = df[f1].astype('str') + '_' + df[f2].astype('str')\n",
        "        df[feature_name] = df[feature_name].map(df[feature_name].value_counts())\n",
        "\n",
        "    #deviceType & deviceInfo\n",
        "    df['DeviceType'] = LabelEncoder().fit_transform(df['DeviceType'].fillna(\"NAN\"))\n",
        "    df['DeviceInfo'] = LabelEncoder().fit_transform(df['DeviceInfo'].map(parse_deviceinfo))\n",
        "\n",
        "    df.sort_values(by=[\"TransactionDT\"], ascending=True).reset_index()\n",
        "    df = df.drop([\"TransactionDT\", \"TransactionID\", \"month\"], axis=1)\n",
        "\n",
        "    gc.collect()\n",
        "    return df"
      ],
      "execution_count": 0,
      "outputs": []
    },
    {
      "cell_type": "markdown",
      "metadata": {
        "id": "YL7TmxTu0Br4",
        "colab_type": "text"
      },
      "source": [
        "# source data model validate(Kaggle: 0.8866)"
      ]
    },
    {
      "cell_type": "code",
      "metadata": {
        "id": "Z36Q3b2ex4gA",
        "colab_type": "code",
        "outputId": "9b521df4-f090-44bb-80e0-f323eaf54cfc",
        "colab": {
          "base_uri": "https://localhost:8080/",
          "height": 170
        }
      },
      "source": [
        "#default params\n",
        "params = {\n",
        "    'n_leaves': 450,\n",
        "    'n_estimators': 700,\n",
        "    'learning_rate': 0.05,\n",
        "    'metrics': 'auc',\n",
        "    'objective': 'binary'\n",
        "}\n",
        "clf = lgb.LGBMClassifier(**params)\n",
        "y = data_trainTR['isFraud']\n",
        "df_train = pipeline(data_trainTR.drop(\"isFraud\", axis=1), data_trainID)\n",
        "df_train = reduce_mem_usage(df_train)\n",
        "valid_scores(clf, df_train, y)"
      ],
      "execution_count": 0,
      "outputs": [
        {
          "output_type": "stream",
          "text": [
            "Memory usage before: 2696.0 MB\n",
            "Memory usage after: 1098.0 MB\n",
            "Optimization: 59.0%\n",
            "//////////////////////////////\n",
            "TTS5: 0.9137106407740347\n",
            "KF3: 0.9175961013946283\n",
            "Test3/4_kaggle: 0.9206309643933345\n",
            "Avg. score: 0.9173125688539993\n",
            "//////////////////////////////\n"
          ],
          "name": "stdout"
        }
      ]
    },
    {
      "cell_type": "code",
      "metadata": {
        "id": "iQ6qGB_jDf9a",
        "colab_type": "code",
        "outputId": "cca76cce-7942-4f6f-9999-34e125e31842",
        "colab": {
          "base_uri": "https://localhost:8080/",
          "height": 68
        }
      },
      "source": [
        "#get predict for kaggle score \n",
        "df_test = pipeline(data_testTR, data_testID)\n",
        "df_test = reduce_mem_usage(df_test)\n",
        "\n",
        "params = {\n",
        "    'n_leaves': 450,\n",
        "    'n_estimators': 700,\n",
        "    'learning_rate': 0.05,\n",
        "    'metrics': 'auc',\n",
        "    'objective': 'binary'\n",
        "}\n",
        "clf = lgb.LGBMClassifier(**params)\n",
        "clf.fit(df_train.to_numpy(), y.to_numpy().reshape(-1, 1))\n",
        "\n",
        "get_predict(clf, df_test, data_testTR['TransactionID'])"
      ],
      "execution_count": 0,
      "outputs": [
        {
          "output_type": "stream",
          "text": [
            "Memory usage before: 2313.0 MB\n",
            "Memory usage after: 942.0 MB\n",
            "Optimization: 59.0%\n"
          ],
          "name": "stdout"
        }
      ]
    },
    {
      "cell_type": "markdown",
      "metadata": {
        "id": "Ucdkx75dp57V",
        "colab_type": "text"
      },
      "source": [
        "# RFE TSS5 data model validate(Kaggle: 0.8846)"
      ]
    },
    {
      "cell_type": "code",
      "metadata": {
        "id": "3bbgqx9geSrg",
        "colab_type": "code",
        "outputId": "59b0d49c-d997-4a8b-faf8-46c7579d898e",
        "colab": {
          "base_uri": "https://localhost:8080/",
          "height": 221
        }
      },
      "source": [
        "features_before_rfe_TSS5 = ['TransactionAmt', 'ProductCD', 'card1', 'card2', 'card3', 'card5', 'addr1', 'dist1', 'dist2',\n",
        "                               'P_emaildomain', 'R_emaildomain', 'C1', 'C2', 'C3', 'C4', 'C5', 'C6', 'C7', 'C8', 'C9', 'C10',\n",
        "                               'C11', 'C12', 'C13', 'C14', 'D1', 'D2', 'D3', 'D4', 'D5', 'D6', 'D7', 'D8', 'D9', 'D10', 'D11',\n",
        "                               'D12', 'D13', 'D14', 'D15', 'M3', 'M4', 'M5', 'M6', 'M7', 'M8', 'M9', 'V2', 'V4', 'V5', 'V6',\n",
        "                               'V7', 'V10', 'V12', 'V13', 'V19', 'V20', 'V23', 'V24', 'V26', 'V30', 'V34', 'V35', 'V36', 'V37',\n",
        "                               'V38', 'V39', 'V40', 'V43', 'V44', 'V45', 'V47', 'V48', 'V49', 'V52', 'V53', 'V54', 'V55', 'V56',\n",
        "                               'V58', 'V61', 'V62', 'V64', 'V66', 'V67', 'V70', 'V73', 'V74', 'V75', 'V76', 'V77', 'V78', 'V79',\n",
        "                               'V81', 'V82', 'V83', 'V85', 'V86', 'V87', 'V90', 'V91', 'V94', 'V96', 'V99', 'V102', 'V124', 'V126',\n",
        "                               'V127', 'V128', 'V129', 'V130', 'V131', 'V133', 'V134', 'V135', 'V136', 'V137', 'V139', 'V140', 'V143',\n",
        "                               'V149', 'V150', 'V152', 'V156', 'V160', 'V162', 'V164', 'V165', 'V166', 'V169', 'V170', 'V171', 'V178',\n",
        "                               'V184', 'V187', 'V189', 'V197', 'V200', 'V202', 'V203', 'V204', 'V205', 'V206', 'V207', 'V208', 'V209',\n",
        "                               'V210', 'V212', 'V214', 'V215', 'V216', 'V217', 'V220', 'V221', 'V222', 'V224', 'V229', 'V232', 'V234',\n",
        "                               'V243', 'V245', 'V251', 'V253', 'V256', 'V257', 'V258', 'V259', 'V260', 'V261', 'V263', 'V264', 'V265',\n",
        "                               'V266', 'V267', 'V268', 'V270', 'V271', 'V272', 'V273', 'V274', 'V276', 'V277', 'V278', 'V281', 'V282',\n",
        "                               'V283', 'V285', 'V291', 'V292', 'V293', 'V294', 'V296', 'V300', 'V303', 'V306', 'V307', 'V308', 'V309',\n",
        "                               'V310', 'V311', 'V312', 'V313', 'V314', 'V315', 'V316', 'V317', 'V318', 'V319', 'V320', 'V321', 'V323',\n",
        "                               'V338', 'id_01', 'id_02', 'id_03', 'id_05', 'id_06', 'id_08', 'id_09', 'id_11', 'id_13', 'id_14', 'id_15',\n",
        "                               'id_16', 'id_17', 'id_18', 'id_19', 'id_20', 'id_21', 'id_25', 'id_26', 'id_30', 'id_31', 'id_32', 'id_33',\n",
        "                               'id_36', 'id_37', 'id_38', 'DeviceType', 'DeviceInfo', 'transaction_month', 'transaction_std',\n",
        "                               'transaction_digits', 'transaction_count', 'trans_hour', 'trans_cent', 'prod_stdq', 'card1_count',\n",
        "                               'card1_count_q', 'trans_card1_mean', 'trans_card1_mean_rel', 'card1_mean', 'card1_std', 'card1_addr1_mean',\n",
        "                               'card2_count', 'card2_out', 'card2_q', 'card4_count', 'trans_card_mean', 'trans_card_mean_q', 'trans_card_std',\n",
        "                               'trans_card_std_q', 'card4_trans_mean', 'trans_card_med', 'addr1_frequency', 'addr_trans', 'addr_trans_q',\n",
        "                               'addr_card_med', 'addr_card_q', 'addrcard', 'C1_trans_div', 'C1_trans_div_q', 'C2_trans_div', 'C2_trans_div_q',\n",
        "                               'C3_trans_div', 'C3_trans_div_q', 'C4_trans_div', 'C4_trans_div_q', 'C5_trans_div', 'C5_trans_div_q',\n",
        "                               'C6_trans_div', 'C6_trans_div_q', 'C7_trans_div', 'C7_trans_div_q', 'C8_trans_div', 'C8_trans_div_q',\n",
        "                               'C9_trans_div', 'C9_trans_div_q', 'C10_trans_div', 'C10_trans_div_q', 'C11_trans_div', 'C11_trans_div_q',\n",
        "                               'C12_trans_div', 'C12_trans_div_q', 'C13_trans_div', 'C13_trans_div_q', 'C14_trans_div', 'C14_trans_div_q',\n",
        "                               'TransactionAmt_card1', 'TransactionAmt_card2', 'TransactionAmt_card3', 'TransactionAmt_card4',\n",
        "                               'TransactionAmt_card5', 'TransactionAmt_card6', 'TransactionAmt_D15', 'TransactionAmt_C13', 'TransactionAmt_addr1',\n",
        "                               'TransactionAmt_dist1', 'TransactionAmt_R_emaildomain', 'TransactionAmt_M2', 'TransactionAmt_M4', 'TransactionAmt_trans_hour',\n",
        "                               'card1_card2', 'card1_card3', 'card1_card4', 'card1_card5', 'card1_card6', 'card1_D15', 'card1_C13', 'card1_addr1',\n",
        "                               'card1_dist1', 'card1_R_emaildomain', 'card1_M2', 'card1_M4', 'card1_trans_hour', 'card2_card3', 'card2_card4',\n",
        "                               'card2_card5', 'card2_card6', 'card2_D15', 'card2_C13', 'card2_addr1', 'card2_dist1', 'card2_R_emaildomain', 'card2_M2',\n",
        "                               'card2_M4', 'card2_trans_hour', 'card3_card4', 'card3_card5', 'card3_card6', 'card3_D15', 'card3_C13', 'card3_addr1',\n",
        "                               'card3_dist1', 'card3_R_emaildomain', 'card3_M2', 'card3_M4', 'card3_trans_hour', 'card4_card5', 'card4_card6', 'card4_D15',\n",
        "                               'card4_C13', 'card4_addr1', 'card4_dist1', 'card4_R_emaildomain', 'card4_M2', 'card4_M4', 'card4_trans_hour', 'card5_card6',\n",
        "                               'card5_D15', 'card5_C13', 'card5_addr1', 'card5_dist1', 'card5_R_emaildomain', 'card5_M2', 'card5_M4', 'card5_trans_hour',\n",
        "                               'card6_D15', 'card6_C13', 'card6_addr1', 'card6_dist1', 'card6_R_emaildomain', 'card6_M2', 'card6_M4', 'card6_trans_hour',\n",
        "                               'D15_C13', 'D15_addr1', 'D15_dist1', 'D15_R_emaildomain', 'D15_M2', 'D15_M4', 'D15_trans_hour', 'C13_addr1', 'C13_dist1',\n",
        "                               'C13_R_emaildomain', 'C13_M2', 'C13_M4', 'C13_trans_hour', 'addr1_dist1', 'addr1_R_emaildomain', 'addr1_M2', 'addr1_M4',\n",
        "                               'addr1_trans_hour', 'dist1_R_emaildomain', 'dist1_M2', 'dist1_M4', 'dist1_trans_hour', 'R_emaildomain_M2', 'R_emaildomain_M4',\n",
        "                               'R_emaildomain_trans_hour', 'M2_M4', 'M2_trans_hour', 'M4_trans_hour']\n",
        "\n",
        "#default params\n",
        "params = {\n",
        "    'n_leaves': 450,\n",
        "    'n_estimators': 700,\n",
        "    'learning_rate': 0.05,\n",
        "    'metrics': 'auc',\n",
        "    'objective': 'binary'\n",
        "}\n",
        "clf = lgb.LGBMClassifier(**params)\n",
        "\n",
        "#valid scores\n",
        "y = data_trainTR['isFraud']\n",
        "df_train = pipeline(data_trainTR, data_trainID)\n",
        "df_train = reduce_mem_usage(df_train[features_before_rfe_TSS5])\n",
        "valid_scores(clf, df_train, y)"
      ],
      "execution_count": 0,
      "outputs": [
        {
          "output_type": "stream",
          "text": [
            "Memory usage before: 1802.0 MB\n",
            "Memory usage after: 678.0 MB\n",
            "Optimization: 62.0%\n",
            "//////////////////////////////\n",
            "TTS5: 0.9132685982942877\n",
            "KF3: 0.91766337138632\n",
            "Test3/4_kaggle: 0.9198497885280328\n",
            "Avg. score: 0.9169272527362136\n",
            "//////////////////////////////\n",
            "Memory usage before: 1546.0 MB\n",
            "Memory usage after: 582.0 MB\n",
            "Optimization: 62.0%\n"
          ],
          "name": "stdout"
        }
      ]
    },
    {
      "cell_type": "code",
      "metadata": {
        "id": "-0dlr8mqtc_7",
        "colab_type": "code",
        "colab": {}
      },
      "source": [
        "#get predict\n",
        "df_test = pipeline(data_testTR, data_testID)\n",
        "df_test = reduce_mem_usage(df_test[features_before_rfe_TSS5])\n",
        "clf.fit(df_train.to_numpy(), y.to_numpy().reshape(-1, 1))\n",
        "get_predict(clf, df_test, data_testTR['TransactionID'], name='rfecvTSS5.csv')"
      ],
      "execution_count": 0,
      "outputs": []
    },
    {
      "cell_type": "markdown",
      "metadata": {
        "id": "WcuiIrjP5WEp",
        "colab_type": "text"
      },
      "source": [
        "# RFE TSS5 + adverserial selection(Kaggle: 0.89)"
      ]
    },
    {
      "cell_type": "code",
      "metadata": {
        "id": "ha4q2YA2tf5v",
        "colab_type": "code",
        "outputId": "63cd2a92-7ec3-4faf-f592-7d92d5a8f27d",
        "colab": {
          "base_uri": "https://localhost:8080/",
          "height": 170
        }
      },
      "source": [
        "features = ['TransactionAmt', 'ProductCD', 'card1', 'card2', 'card3', 'card5', 'addr1', 'dist1', 'dist2',\n",
        "            'P_emaildomain', 'R_emaildomain', 'C1', 'C2', 'C4', 'C5', 'C6', 'C7', 'C8', 'C9', 'C10', 'C11',\n",
        "            'C12', 'C13', 'C14', 'D1', 'D2', 'D3', 'D4', 'D5', 'D6', 'D7', 'D8', 'D9', 'D10', 'D11', 'D12',\n",
        "            'D13', 'D14', 'D15', 'M3', 'M4', 'M5', 'M6', 'M7', 'M8', 'M9', 'V2', 'V4', 'V5', 'V6', 'V7', 'V10',\n",
        "            'V12', 'V13', 'V30', 'V34', 'V35', 'V36', 'V37', 'V38', 'V39', 'V40', 'V43', 'V44', 'V45', 'V47',\n",
        "            'V48', 'V49', 'V52', 'V53', 'V54', 'V58', 'V64', 'V70', 'V73', 'V74', 'V75', 'V76', 'V77', 'V78',\n",
        "            'V79', 'V81', 'V83', 'V85', 'V86', 'V87', 'V90', 'V91', 'V94', 'V96', 'V99', 'V102', 'V124', 'V126',\n",
        "            'V127', 'V128', 'V130', 'V131', 'V133', 'V134', 'V139', 'V140', 'V149', 'V150', 'V156', 'V169', 'V170',\n",
        "            'V171', 'V178', 'V184', 'V187', 'V189', 'V197', 'V200', 'V202', 'V203', 'V204', 'V205', 'V206', 'V207',\n",
        "            'V208', 'V209', 'V210', 'V212', 'V214', 'V215', 'V216', 'V217', 'V220', 'V221', 'V222', 'V224', 'V229',\n",
        "            'V232', 'V234', 'V245', 'V251', 'V253', 'V256', 'V257', 'V258', 'V259', 'V260', 'V261', 'V263', 'V264',\n",
        "            'V265', 'V266', 'V267', 'V268', 'V270', 'V271', 'V272', 'V273', 'V274', 'V276', 'V277', 'V278', 'V281',\n",
        "            'V282', 'V283', 'V291', 'V292', 'V293', 'V294', 'V300', 'V303', 'V306', 'V307', 'V308', 'V312', 'V313',\n",
        "            'V315', 'V316', 'V317', 'V318', 'id_01', 'id_02', 'id_03', 'id_05', 'id_06', 'id_09', 'id_11', 'id_13',\n",
        "            'id_15', 'id_16', 'id_17', 'id_18', 'id_19', 'id_20', 'id_31', 'id_36', 'id_37', 'DeviceType', 'DeviceInfo',\n",
        "            'transaction_std', 'transaction_digits', 'transaction_count', 'trans_hour', 'trans_cent', 'prod_stdq',\n",
        "            'card1_count', 'card1_count_q', 'trans_card1_mean', 'trans_card1_mean_rel', 'card1_mean', 'card1_addr1_mean',\n",
        "            'card2_count', 'card2_out', 'card2_q', 'trans_card_mean', 'trans_card_mean_q', 'trans_card_std',\n",
        "            'trans_card_std_q', 'card4_trans_mean', 'trans_card_med', 'addr1_frequency', 'addr_trans', 'addr_trans_q',\n",
        "            'addr_card_med', 'addr_card_q', 'addrcard', 'C1_trans_div', 'C1_trans_div_q', 'C2_trans_div', 'C2_trans_div_q',\n",
        "            'C3_trans_div', 'C3_trans_div_q', 'C4_trans_div', 'C4_trans_div_q', 'C5_trans_div', 'C5_trans_div_q',\n",
        "            'C6_trans_div', 'C6_trans_div_q', 'C7_trans_div', 'C7_trans_div_q', 'C8_trans_div', 'C8_trans_div_q',\n",
        "            'C9_trans_div', 'C9_trans_div_q', 'C10_trans_div', 'C10_trans_div_q', 'C11_trans_div', 'C12_trans_div',\n",
        "            'C12_trans_div_q', 'C13_trans_div', 'C13_trans_div_q', 'C14_trans_div', 'C14_trans_div_q', 'TransactionAmt_card1',\n",
        "            'TransactionAmt_card2', 'TransactionAmt_card3', 'TransactionAmt_card4', 'TransactionAmt_card5',\n",
        "            'TransactionAmt_card6', 'TransactionAmt_D15', 'TransactionAmt_C13', 'TransactionAmt_addr1', 'TransactionAmt_dist1',\n",
        "            'TransactionAmt_R_emaildomain', 'TransactionAmt_M2', 'TransactionAmt_M4', 'TransactionAmt_trans_hour',\n",
        "            'card1_card2', 'card1_card3', 'card1_card4', 'card1_card5', 'card1_card6', 'card1_D15', 'card1_C13',\n",
        "            'card1_addr1', 'card1_dist1', 'card1_R_emaildomain', 'card1_M2', 'card1_M4', 'card1_trans_hour', 'card2_card3',\n",
        "            'card2_card4', 'card2_card5', 'card2_card6', 'card2_D15', 'card2_C13', 'card2_addr1', 'card2_dist1',\n",
        "            'card2_R_emaildomain', 'card2_M2', 'card2_M4', 'card2_trans_hour', 'card3_card4', 'card3_card5', 'card3_card6',\n",
        "            'card3_D15', 'card3_C13', 'card3_addr1', 'card3_dist1', 'card3_R_emaildomain', 'card3_M2', 'card3_M4',\n",
        "            'card3_trans_hour', 'card4_card5', 'card4_card6', 'card4_D15', 'card4_C13', 'card4_addr1', 'card4_dist1',\n",
        "            'card4_R_emaildomain', 'card4_M2', 'card4_M4', 'card4_trans_hour', 'card5_card6', 'card5_D15', 'card5_C13',\n",
        "            'card5_addr1', 'card5_dist1', 'card5_R_emaildomain', 'card5_M2', 'card5_M4', 'card5_trans_hour', 'card6_D15',\n",
        "            'card6_C13', 'card6_addr1', 'card6_dist1', 'card6_R_emaildomain', 'card6_M2', 'card6_M4', 'card6_trans_hour',\n",
        "            'D15_C13', 'D15_addr1', 'D15_dist1', 'D15_R_emaildomain', 'D15_M2', 'D15_M4', 'D15_trans_hour', 'C13_addr1',\n",
        "            'C13_dist1', 'C13_R_emaildomain', 'C13_M2', 'C13_M4', 'C13_trans_hour', 'addr1_dist1', 'addr1_R_emaildomain',\n",
        "            'addr1_M2', 'addr1_M4', 'addr1_trans_hour', 'dist1_R_emaildomain', 'dist1_M2', 'dist1_M4', 'dist1_trans_hour',\n",
        "            'R_emaildomain_M2', 'R_emaildomain_M4', 'R_emaildomain_trans_hour', 'M2_M4', 'M2_trans_hour', 'M4_trans_hour']\n",
        "\n",
        "#default params\n",
        "params = {\n",
        "    'n_leaves': 450,\n",
        "    'n_estimators': 700,\n",
        "    'learning_rate': 0.05,\n",
        "    'metrics': 'auc',\n",
        "    'objective': 'binary'\n",
        "}\n",
        "clf = lgb.LGBMClassifier(**params)\n",
        "\n",
        "#valid scores\n",
        "y = data_trainTR['isFraud']\n",
        "df_train = pipeline(data_trainTR, data_trainID)\n",
        "df_train = reduce_mem_usage(df_train[features])\n",
        "valid_scores(clf, df_train, y)"
      ],
      "execution_count": 0,
      "outputs": [
        {
          "output_type": "stream",
          "text": [
            "Memory usage before: 1583.0 MB\n",
            "Memory usage after: 575.0 MB\n",
            "Optimization: 64.0%\n",
            "//////////////////////////////\n",
            "TTS5: 0.9131999319184123\n",
            "KF3: 0.9175802145044409\n",
            "Test3/4_kaggle: 0.919525989144737\n",
            "Avg. score: 0.9167687118558634\n",
            "//////////////////////////////\n"
          ],
          "name": "stdout"
        }
      ]
    },
    {
      "cell_type": "code",
      "metadata": {
        "id": "19uczjIC3xrg",
        "colab_type": "code",
        "colab": {}
      },
      "source": [
        "#get predict\n",
        "df_test = pipeline(data_testTR, data_testID)\n",
        "df_test = reduce_mem_usage(df_test[features])\n",
        "clf.fit(df_train.to_numpy(), y.to_numpy().reshape(-1, 1))\n",
        "get_predict(clf, df_test, data_testTR['TransactionID'], name='rfecvTSS5_adverserial.csv')"
      ],
      "execution_count": 0,
      "outputs": []
    },
    {
      "cell_type": "markdown",
      "metadata": {
        "id": "pprBfJS74hMV",
        "colab_type": "text"
      },
      "source": [
        "# RFETSS5 + Time dependence + covar. select\n",
        "# Kaggle: 0.9210 (cov < 0.8); Kaggle: 0.9295 (cov < 0.6); Kaggle: 0.9286 (cov < 0.65)"
      ]
    },
    {
      "cell_type": "code",
      "metadata": {
        "id": "g7wJdTXz4lpx",
        "colab_type": "code",
        "outputId": "51299727-8279-48d8-be64-b2fb0adc3bf6",
        "colab": {
          "base_uri": "https://localhost:8080/",
          "height": 170
        }
      },
      "source": [
        "# cov < 0.8\n",
        "features = ['TransactionAmt', 'ProductCD', 'card1', 'card2', 'card3', 'card5', 'addr1', 'dist1', 'dist2', 'R_emaildomain',\n",
        "            'C1', 'C2', 'C4', 'C5', 'C6', 'C7', 'C8', 'C9', 'C10', 'C11', 'C12', 'C13', 'C14', 'D1', 'D2', 'D3', 'D4',\n",
        "            'D5', 'D6', 'D7', 'D8', 'D9', 'D10', 'D11', 'D12', 'D13', 'D14', 'D15', 'M3', 'M4', 'M5', 'M6', 'M7', 'M8',\n",
        "            'M9', 'V2', 'V4', 'V5', 'V6', 'V7', 'V10', 'V12', 'V13', 'V30', 'V34', 'V35', 'V36', 'V37', 'V38', 'V39',\n",
        "            'V40', 'V43', 'V44', 'V45', 'V47', 'V48', 'V49', 'V52', 'V53', 'V54', 'V58', 'V64', 'V70', 'V73', 'V74', 'V75',\n",
        "            'V76', 'V77', 'V78', 'V79', 'V81', 'V83', 'V85', 'V86', 'V87', 'V90', 'V91', 'V94', 'V96', 'V99', 'V102',\n",
        "            'V124', 'V126', 'V127', 'V128', 'V130', 'V131', 'V133', 'V134', 'V139', 'V140', 'V149', 'V150', 'V156', 'V169',\n",
        "            'V170', 'V171', 'V178', 'V184', 'V187', 'V189', 'V197', 'V200', 'V202', 'V203', 'V204', 'V205', 'V206', 'V207',\n",
        "            'V208', 'V209', 'V210', 'V212', 'V214', 'V215', 'V216', 'V217', 'V220', 'V221', 'V222', 'V224', 'V229', 'V232',\n",
        "            'V234', 'V245', 'V251', 'V253', 'V256', 'V257', 'V258', 'V259', 'V260', 'V261', 'V263', 'V264', 'V265', 'V266',\n",
        "            'V267', 'V268', 'V270', 'V271', 'V272', 'V273', 'V274', 'V276', 'V277', 'V278', 'V281', 'V282', 'V283', 'V291',\n",
        "            'V292', 'V293', 'V294', 'V300', 'V303', 'V306', 'V307', 'V308', 'V312', 'V313', 'V315', 'V316', 'V317', 'V318',\n",
        "            'id_01', 'id_02', 'id_03', 'id_05', 'id_06', 'id_09', 'id_11', 'id_13', 'id_15', 'id_16', 'id_17', 'id_18',\n",
        "            'id_19', 'id_20', 'id_31', 'id_36', 'id_37', 'DeviceType', 'DeviceInfo', 'transaction_digits', 'transaction_count',\n",
        "            'trans_hour', 'trans_cent', 'prod_stdq', 'card1_count_q', 'trans_card1_mean', 'trans_card1_mean_rel', 'card1_mean',\n",
        "            'card1_addr1_mean', 'card2_out', 'card2_q', 'trans_card_mean_q', 'trans_card_std_q', 'card4_trans_mean',\n",
        "            'trans_card_med', 'addr_trans', 'addr_trans_q', 'addr_card_med', 'addr_card_q', 'addrcard', 'C1_trans_div',\n",
        "            'C1_trans_div_q', 'C2_trans_div_q', 'C3_trans_div_q', 'C4_trans_div_q', 'C5_trans_div_q', 'C6_trans_div',\n",
        "            'C6_trans_div_q', 'C7_trans_div', 'C7_trans_div_q', 'C8_trans_div_q', 'C9_trans_div_q', 'C10_trans_div_q',\n",
        "            'C12_trans_div_q', 'C13_trans_div', 'C13_trans_div_q', 'C14_trans_div', 'C14_trans_div_q', 'TransactionAmt_card1',\n",
        "            'TransactionAmt_card2', 'TransactionAmt_D15', 'TransactionAmt_C13', 'TransactionAmt_addr1', 'TransactionAmt_dist1',\n",
        "            'TransactionAmt_trans_hour', 'card1_D15', 'card1_C13', 'card1_addr1', 'card1_dist1', 'card1_R_emaildomain',\n",
        "            'card1_M2', 'card1_M4', 'card1_trans_hour', 'card2_D15', 'card2_C13', 'card2_addr1', 'card2_trans_hour', 'addr1_trans_hour']\n",
        "\n",
        "#default params\n",
        "params = {\n",
        "    'n_leaves': 450,\n",
        "    'n_estimators': 700,\n",
        "    'learning_rate': 0.05,\n",
        "    'metrics': 'auc',\n",
        "    'objective': 'binary'\n",
        "}\n",
        "clf = lgb.LGBMClassifier(**params)\n",
        "\n",
        "#valid scores\n",
        "y = data_trainTR['isFraud']\n",
        "df_train = pipeline(data_trainTR, data_trainID)\n",
        "df_train = reduce_mem_usage(df_train[features])\n",
        "valid_scores(clf, df_train, y)\n",
        "\n",
        "#get predict\n",
        "df_test = pipeline(data_testTR, data_testID)\n",
        "df_test = reduce_mem_usage(df_test[features])\n",
        "clf.fit(df_train.to_numpy(), y.to_numpy().reshape(-1, 1))\n",
        "get_predict(clf, df_test, data_testTR['TransactionID'], name='rfecvTSS5_adverserial_covar.csv')"
      ],
      "execution_count": 0,
      "outputs": [
        {
          "output_type": "stream",
          "text": [
            "Memory usage before: 1131.0 MB\n",
            "Memory usage after: 498.0 MB\n",
            "Optimization: 56.0%\n",
            "//////////////////////////////\n",
            "TTS5: 0.9085702485889611\n",
            "KF3: 0.9157863810756757\n",
            "Test3/4_kaggle: 0.9145779976985358\n",
            "Avg. score: 0.9129782091210575\n",
            "//////////////////////////////\n"
          ],
          "name": "stdout"
        }
      ]
    },
    {
      "cell_type": "code",
      "metadata": {
        "id": "u-SNboogZ83h",
        "colab_type": "code",
        "outputId": "1de1789f-0dca-44f6-9c77-93bb07efab85",
        "colab": {
          "base_uri": "https://localhost:8080/",
          "height": 68
        }
      },
      "source": [
        "#get predict\n",
        "#covar < 60%\n",
        "\n",
        "features = ['TransactionAmt', 'ProductCD', 'card1', 'card2', 'card3', 'card5', 'addr1', 'dist1', 'dist2', 'R_emaildomain',\n",
        "            'C1', 'C2', 'C4', 'C5', 'C6', 'C7', 'C8', 'C9', 'C10', 'C11', 'C12', 'C13', 'C14', 'D1', 'D2', 'D3', 'D5',\n",
        "            'D6', 'D7', 'D8', 'D9', 'D11', 'D12', 'D13', 'D14', 'M3', 'M4', 'M5', 'M6', 'M7', 'M8', 'M9', 'V2', 'V4',\n",
        "            'V5', 'V6', 'V7', 'V10', 'V12', 'V13', 'V30', 'V34', 'V35', 'V36', 'V37', 'V38', 'V44', 'V45', 'V47', 'V48',\n",
        "            'V49', 'V52', 'V53', 'V54', 'V58', 'V70', 'V73', 'V74', 'V75', 'V76', 'V77', 'V78', 'V79', 'V83', 'V86', 'V87',\n",
        "            'V90', 'V91', 'V94', 'V96', 'V99', 'V102', 'V124', 'V126', 'V127', 'V128', 'V130', 'V131', 'V133', 'V134',\n",
        "            'V139', 'V140', 'V149', 'V150', 'V156', 'V169', 'V170', 'V171', 'V178', 'V184', 'V187', 'V189', 'V197', 'V200',\n",
        "            'V202', 'V203', 'V204', 'V205', 'V206', 'V207', 'V208', 'V209', 'V210', 'V212', 'V214', 'V215', 'V216', 'V217',\n",
        "            'V220', 'V221', 'V222', 'V224', 'V229', 'V232', 'V234', 'V245', 'V251', 'V253', 'V256', 'V257', 'V258', 'V259',\n",
        "            'V260', 'V261', 'V263', 'V264', 'V265', 'V266', 'V267', 'V268', 'V270', 'V271', 'V272', 'V273', 'V274', 'V276',\n",
        "            'V277', 'V278', 'V281', 'V282', 'V283', 'V291', 'V292', 'V293', 'V294', 'V300', 'V303', 'V306', 'V307', 'V308',\n",
        "            'V312', 'V313', 'V315', 'V316', 'V317', 'V318', 'id_01', 'id_02', 'id_03', 'id_05', 'id_06', 'id_09', 'id_11',\n",
        "            'id_15', 'id_16', 'id_17', 'id_18', 'id_19', 'id_20', 'id_31', 'id_36', 'id_37', 'DeviceType', 'DeviceInfo',\n",
        "            'transaction_digits', 'transaction_count', 'trans_hour', 'trans_cent', 'prod_stdq', 'card1_count_q',\n",
        "            'trans_card1_mean', 'trans_card1_mean_rel', 'card1_addr1_mean', 'card2_out', 'card2_q', 'trans_card_mean_q',\n",
        "            'trans_card_std_q', 'trans_card_med', 'addr_trans_q', 'addr_card_q', 'C1_trans_div_q', 'C2_trans_div_q',\n",
        "            'C3_trans_div_q', 'C4_trans_div_q', 'C5_trans_div_q', 'C6_trans_div', 'C6_trans_div_q', 'C7_trans_div',\n",
        "            'C7_trans_div_q', 'C8_trans_div_q', 'C9_trans_div_q', 'C10_trans_div_q', 'C12_trans_div_q', 'C13_trans_div_q',\n",
        "            'C14_trans_div_q', 'TransactionAmt_card1', 'card1_trans_hour']\n",
        "\n",
        "#get predict\n",
        "df_test = pipeline(data_testTR, data_testID)\n",
        "df_test = reduce_mem_usage(df_test[features])\n",
        "clf.fit(df_train[features].to_numpy(), y.to_numpy().reshape(-1, 1))\n",
        "get_predict(clf, df_test, data_testTR['TransactionID'], name='rfecvTSS5_adverserial_covar60.csv')"
      ],
      "execution_count": 0,
      "outputs": [
        {
          "output_type": "stream",
          "text": [
            "Memory usage before: 832.0 MB\n",
            "Memory usage after: 386.0 MB\n",
            "Optimization: 54.0%\n"
          ],
          "name": "stdout"
        }
      ]
    },
    {
      "cell_type": "code",
      "metadata": {
        "id": "2nRumhxOdpKK",
        "colab_type": "code",
        "outputId": "21927498-213f-413b-f1bd-376ab788d6f5",
        "colab": {
          "base_uri": "https://localhost:8080/",
          "height": 68
        }
      },
      "source": [
        "#get predict\n",
        "#covar < 55%\n",
        "\n",
        "features = ['TransactionAmt', 'ProductCD', 'card1', 'card2', 'card3', 'card5', 'addr1', 'dist1', 'dist2', 'R_emaildomain',\n",
        "            'C1', 'C2', 'C4', 'C5', 'C6', 'C7', 'C8', 'C9', 'C10', 'C11', 'C13', 'C14', 'D1', 'D2', 'D3', 'D5', 'D7', 'D8',\n",
        "            'D9', 'D12', 'M4', 'M5', 'M6', 'V96', 'V99', 'V102', 'V124', 'V126', 'V127', 'V128', 'V130', 'V131', 'V133',\n",
        "            'V134', 'V139', 'V140', 'V149', 'V150', 'V156', 'V169', 'V170', 'V171', 'V178', 'V184', 'V187', 'V189', 'V197',\n",
        "            'V200', 'V202', 'V203', 'V204', 'V205', 'V206', 'V207', 'V208', 'V209', 'V210', 'V212', 'V214', 'V215', 'V216',\n",
        "            'V217', 'V220', 'V221', 'V222', 'V224', 'V229', 'V232', 'V234', 'V245', 'V251', 'V253', 'V256', 'V257', 'V258',\n",
        "            'V259', 'V260', 'V261', 'V263', 'V264', 'V265', 'V266', 'V267', 'V268', 'V270', 'V271', 'V272', 'V273', 'V274',\n",
        "            'V276', 'V277', 'V278', 'V281', 'V282', 'V283', 'V291', 'V292', 'V293', 'V294', 'V300', 'V303', 'V306', 'V307',\n",
        "            'V308', 'V312', 'V313', 'V315', 'V316', 'V317', 'V318', 'id_01', 'id_02', 'id_03', 'id_05', 'id_06', 'id_09',\n",
        "            'id_11', 'id_15', 'id_16', 'id_17', 'id_18', 'id_19', 'id_20', 'id_31', 'id_36', 'id_37', 'DeviceType',\n",
        "            'DeviceInfo', 'transaction_digits', 'transaction_count', 'trans_hour', 'trans_cent', 'prod_stdq', 'card1_count_q',\n",
        "            'card1_addr1_mean', 'card2_out', 'card2_q', 'trans_card_mean_q', 'trans_card_std_q', 'trans_card_med',\n",
        "            'addr_trans_q', 'addr_card_q', 'C1_trans_div_q', 'C2_trans_div_q', 'C3_trans_div_q', 'C4_trans_div_q', 'C5_trans_div_q',\n",
        "            'C6_trans_div_q', 'C7_trans_div', 'C9_trans_div_q', 'C13_trans_div_q', 'C14_trans_div_q']\n",
        "\n",
        "#get predict\n",
        "df_test = pipeline(data_testTR, data_testID)\n",
        "df_test = reduce_mem_usage(df_test[features])\n",
        "clf.fit(df_train[features].to_numpy(), y.to_numpy().reshape(-1, 1))\n",
        "get_predict(clf, df_test, data_testTR['TransactionID'], name='rfecvTSS5_adverserial_covar55.csv')"
      ],
      "execution_count": 0,
      "outputs": [
        {
          "output_type": "stream",
          "text": [
            "Memory usage before: 621.0 MB\n",
            "Memory usage after: 289.0 MB\n",
            "Optimization: 53.0%\n"
          ],
          "name": "stdout"
        }
      ]
    },
    {
      "cell_type": "code",
      "metadata": {
        "id": "Qq4iemH0eCaX",
        "colab_type": "code",
        "outputId": "6ada3a07-7063-4254-fd23-bab38a3ecc0f",
        "colab": {
          "base_uri": "https://localhost:8080/",
          "height": 68
        }
      },
      "source": [
        "#get predict\n",
        "#covar < 65%\n",
        "\n",
        "features = ['TransactionAmt', 'ProductCD', 'card1', 'card2', 'card3', 'card5', 'addr1', 'dist1', 'dist2', 'R_emaildomain',\n",
        "            'C1', 'C2', 'C4', 'C5', 'C6', 'C7', 'C8', 'C9', 'C10', 'C11', 'C12', 'C13', 'C14', 'D1', 'D2', 'D3', 'D4',\n",
        "            'D5', 'D6', 'D7', 'D8', 'D9', 'D10', 'D11', 'D12', 'D13', 'D14', 'M3', 'M4', 'M5', 'M6', 'M7', 'M8', 'M9',\n",
        "            'V2', 'V4', 'V5', 'V6', 'V7', 'V10', 'V12', 'V13', 'V30', 'V34', 'V35', 'V36', 'V37', 'V38', 'V39', 'V40',\n",
        "            'V43', 'V44', 'V45', 'V47', 'V48', 'V49', 'V52', 'V53', 'V54', 'V58', 'V64', 'V70', 'V73', 'V74', 'V75',\n",
        "            'V76', 'V77', 'V78', 'V79', 'V81', 'V83', 'V85', 'V86', 'V87', 'V90', 'V91', 'V94', 'V96', 'V99', 'V102',\n",
        "            'V124', 'V126', 'V127', 'V128', 'V130', 'V131', 'V133', 'V134', 'V139', 'V140', 'V149', 'V150', 'V156',\n",
        "            'V169', 'V170', 'V171', 'V178', 'V184', 'V187', 'V189', 'V197', 'V200', 'V202', 'V203', 'V204', 'V205',\n",
        "            'V206', 'V207', 'V208', 'V209', 'V210', 'V212', 'V214', 'V215', 'V216', 'V217', 'V220', 'V221', 'V222',\n",
        "            'V224', 'V229', 'V232', 'V234', 'V245', 'V251', 'V253', 'V256', 'V257', 'V258', 'V259', 'V260', 'V261',\n",
        "            'V263', 'V264', 'V265', 'V266', 'V267', 'V268', 'V270', 'V271', 'V272', 'V273', 'V274', 'V276', 'V277',\n",
        "            'V278', 'V281', 'V282', 'V283', 'V291', 'V292', 'V293', 'V294', 'V300', 'V303', 'V306', 'V307', 'V308',\n",
        "            'V312', 'V313', 'V315', 'V316', 'V317', 'V318', 'id_01', 'id_02', 'id_03', 'id_05', 'id_06', 'id_09',\n",
        "            'id_11', 'id_13', 'id_15', 'id_16', 'id_17', 'id_18', 'id_19', 'id_20', 'id_31', 'id_36', 'id_37',\n",
        "            'DeviceType', 'DeviceInfo', 'transaction_digits', 'transaction_count', 'trans_hour', 'trans_cent',\n",
        "            'prod_stdq', 'card1_count_q', 'trans_card1_mean', 'trans_card1_mean_rel', 'card1_addr1_mean', 'card2_out',\n",
        "            'card2_q', 'trans_card_mean_q', 'trans_card_std_q', 'trans_card_med', 'addr_trans', 'addr_trans_q',\n",
        "            'addr_card_q', 'C1_trans_div', 'C1_trans_div_q', 'C2_trans_div_q', 'C3_trans_div_q', 'C4_trans_div_q',\n",
        "            'C5_trans_div_q', 'C6_trans_div', 'C6_trans_div_q', 'C7_trans_div', 'C7_trans_div_q', 'C8_trans_div_q',\n",
        "            'C9_trans_div_q', 'C10_trans_div_q', 'C12_trans_div_q', 'C13_trans_div_q', 'C14_trans_div_q', 'TransactionAmt_card1',\n",
        "            'TransactionAmt_card2', 'card1_D15', 'card1_C13', 'card1_trans_hour']\n",
        "\n",
        "#get predict\n",
        "df_test = pipeline(data_testTR, data_testID)\n",
        "df_test = reduce_mem_usage(df_test[features])\n",
        "clf.fit(df_train[features].to_numpy(), y.to_numpy().reshape(-1, 1))\n",
        "get_predict(clf, df_test, data_testTR['TransactionID'], name='rfecvTSS5_adverserial_covar65__.csv')"
      ],
      "execution_count": 0,
      "outputs": [
        {
          "output_type": "stream",
          "text": [
            "Memory usage before: 886.0 MB\n",
            "Memory usage after: 409.0 MB\n",
            "Optimization: 54.0%\n"
          ],
          "name": "stdout"
        }
      ]
    },
    {
      "cell_type": "markdown",
      "metadata": {
        "id": "I9Ptewe3jymT",
        "colab_type": "text"
      },
      "source": [
        "# RFETSS5 + Time dependence + covar. select quantilized(Kaggle: 0.9090)"
      ]
    },
    {
      "cell_type": "code",
      "metadata": {
        "id": "2rXYHOlyeTe_",
        "colab_type": "code",
        "outputId": "4ff99201-0d35-476f-f065-cc5ce23a47b7",
        "colab": {
          "base_uri": "https://localhost:8080/",
          "height": 119
        }
      },
      "source": [
        "#convert features in quantilized form and get full list of features\n",
        "\n",
        "cov_features = ['D4', 'D10', 'V39', 'V40', 'V43', 'V64', 'V81', 'V85', 'id_13', 'transaction_std', 'card1_count',\n",
        "                'card1_mean', 'card2_count', 'trans_card_mean', 'trans_card_std', 'card4_trans_mean', 'addr_trans',\n",
        "                'addr_card_med', 'addrcard', 'TransactionAmt_card2', 'TransactionAmt_card3', 'TransactionAmt_card4',\n",
        "                'TransactionAmt_card5', 'TransactionAmt_card6', 'TransactionAmt_C13', 'TransactionAmt_addr1',\n",
        "                'TransactionAmt_dist1', 'TransactionAmt_M2', 'TransactionAmt_M4', 'TransactionAmt_trans_hour',\n",
        "                'card1_card2', 'card1_C13', 'card1_addr1', 'card1_dist1', 'card1_M2', 'card1_M4', 'card2_card3',\n",
        "                'card2_card5', 'card2_card6', 'card2_D15', 'card2_C13', 'card2_addr1', 'card2_dist1', 'card2_M2',\n",
        "                'card2_M4', 'card2_trans_hour', 'card3_card4', 'card3_card6', 'card3_addr1', 'card3_trans_hour',\n",
        "                'card4_card5', 'card4_addr1', 'card4_trans_hour', 'card5_C13', 'card5_addr1', 'card5_dist1',\n",
        "                'card5_trans_hour', 'card6_C13', 'card6_addr1', 'D15_addr1', 'D15_M2', 'D15_trans_hour', 'C13_addr1',\n",
        "                'C13_trans_hour', 'addr1_dist1', 'addr1_M4', 'addr1_trans_hour', 'dist1_trans_hour', 'M2_trans_hour',\n",
        "                'M4_trans_hour']\n",
        "\n",
        "features = ['TransactionAmt', 'ProductCD', 'card1', 'card2', 'card3', 'card5', 'addr1', 'dist1', 'dist2', 'R_emaildomain',\n",
        "            'C1', 'C2', 'C4', 'C5', 'C6', 'C7', 'C8', 'C9', 'C10', 'C11', 'C12', 'C13', 'C14', 'D1', 'D2', 'D3', 'D5',\n",
        "            'D6', 'D7', 'D8', 'D9', 'D11', 'D12', 'D13', 'D14', 'M3', 'M4', 'M5', 'M6', 'M7', 'M8', 'M9', 'V2', 'V4',\n",
        "            'V5', 'V6', 'V7', 'V10', 'V12', 'V13', 'V30', 'V34', 'V35', 'V36', 'V37', 'V38', 'V44', 'V45', 'V47', 'V48',\n",
        "            'V49', 'V52', 'V53', 'V54', 'V58', 'V70', 'V73', 'V74', 'V75', 'V76', 'V77', 'V78', 'V79', 'V83', 'V86', 'V87',\n",
        "            'V90', 'V91', 'V94', 'V96', 'V99', 'V102', 'V124', 'V126', 'V127', 'V128', 'V130', 'V131', 'V133', 'V134',\n",
        "            'V139', 'V140', 'V149', 'V150', 'V156', 'V169', 'V170', 'V171', 'V178', 'V184', 'V187', 'V189', 'V197', 'V200',\n",
        "            'V202', 'V203', 'V204', 'V205', 'V206', 'V207', 'V208', 'V209', 'V210', 'V212', 'V214', 'V215', 'V216', 'V217',\n",
        "            'V220', 'V221', 'V222', 'V224', 'V229', 'V232', 'V234', 'V245', 'V251', 'V253', 'V256', 'V257', 'V258', 'V259',\n",
        "            'V260', 'V261', 'V263', 'V264', 'V265', 'V266', 'V267', 'V268', 'V270', 'V271', 'V272', 'V273', 'V274', 'V276',\n",
        "            'V277', 'V278', 'V281', 'V282', 'V283', 'V291', 'V292', 'V293', 'V294', 'V300', 'V303', 'V306', 'V307', 'V308',\n",
        "            'V312', 'V313', 'V315', 'V316', 'V317', 'V318', 'id_01', 'id_02', 'id_03', 'id_05', 'id_06', 'id_09', 'id_11',\n",
        "            'id_15', 'id_16', 'id_17', 'id_18', 'id_19', 'id_20', 'id_31', 'id_36', 'id_37', 'DeviceType', 'DeviceInfo',\n",
        "            'transaction_digits', 'transaction_count', 'trans_hour', 'trans_cent', 'prod_stdq', 'card1_count_q',\n",
        "            'trans_card1_mean', 'trans_card1_mean_rel', 'card1_addr1_mean', 'card2_out', 'card2_q', 'trans_card_mean_q',\n",
        "            'trans_card_std_q', 'trans_card_med', 'addr_trans_q', 'addr_card_q', 'C1_trans_div_q', 'C2_trans_div_q',\n",
        "            'C3_trans_div_q', 'C4_trans_div_q', 'C5_trans_div_q', 'C6_trans_div', 'C6_trans_div_q', 'C7_trans_div',\n",
        "            'C7_trans_div_q', 'C8_trans_div_q', 'C9_trans_div_q', 'C10_trans_div_q', 'C12_trans_div_q', 'C13_trans_div_q',\n",
        "            'C14_trans_div_q', 'TransactionAmt_card1', 'card1_trans_hour']\n",
        "\n",
        "quantiles = [0.05, 0.15, 0.3, 0.5, 0.7, 0.85, 0.95]  \n",
        "\n",
        "df_train = pipeline(data_trainTR, data_trainID)\n",
        "df_train = reduce_mem_usage(df_train)\n",
        "df_test = pipeline(data_testTR, data_testID)\n",
        "df_test = reduce_mem_usage(df_test)\n",
        "for cov_f in cov_features:\n",
        "    df_train[cov_f+\"_q\"] = pd.qcut(df_train[cov_f], quantiles, labels=False, duplicates='drop').fillna(-1)\n",
        "    df_test[cov_f+\"_q\"] = pd.qcut(df_test[cov_f], quantiles, labels=False, duplicates='drop').fillna(-1)\n",
        "\n",
        "cov_features = [cov+'_q' for cov in cov_features]\n",
        "features += cov_features"
      ],
      "execution_count": 0,
      "outputs": [
        {
          "output_type": "stream",
          "text": [
            "Memory usage before: 2700.0 MB\n",
            "Memory usage after: 1099.0 MB\n",
            "Optimization: 59.0%\n",
            "Memory usage before: 2313.0 MB\n",
            "Memory usage after: 942.0 MB\n",
            "Optimization: 59.0%\n"
          ],
          "name": "stdout"
        }
      ]
    },
    {
      "cell_type": "code",
      "metadata": {
        "id": "lwd7HKp_zmJR",
        "colab_type": "code",
        "outputId": "f8390853-457d-430d-912b-ba352399f9ae",
        "colab": {
          "base_uri": "https://localhost:8080/",
          "height": 119
        }
      },
      "source": [
        "# get valid scores and test predict\n",
        "#default params\n",
        "params = {\n",
        "    'n_leaves': 450,\n",
        "    'n_estimators': 700,\n",
        "    'learning_rate': 0.05,\n",
        "    'metrics': 'auc',\n",
        "    'objective': 'binary'\n",
        "}\n",
        "clf = lgb.LGBMClassifier(**params)\n",
        "\n",
        "#valid scores\n",
        "y = data_trainTR['isFraud']\n",
        "valid_scores(clf, df_train[features], y)\n",
        "\n",
        "#get predict\n",
        "clf.fit(df_train[features].to_numpy(), y.to_numpy().reshape(-1, 1))\n",
        "get_predict(clf, df_test[features], data_testTR['TransactionID'], \"RFETSS5_ADV_COV60_quant_.csv\")"
      ],
      "execution_count": 0,
      "outputs": [
        {
          "output_type": "stream",
          "text": [
            "//////////////////////////////\n",
            "TTS5: 0.910859721506095\n",
            "KF3: 0.9244949851997328\n",
            "Test3/4_kaggle: 0.9168940329069504\n",
            "Avg. score: 0.9174162465375927\n",
            "//////////////////////////////\n"
          ],
          "name": "stdout"
        }
      ]
    },
    {
      "cell_type": "code",
      "metadata": {
        "id": "ljXz1KdQ4DYW",
        "colab_type": "code",
        "colab": {}
      },
      "source": [
        "params = {\n",
        "    'n_leaves': 450,\n",
        "    'n_estimators': 2000,\n",
        "    'learning_rate': 0.05,\n",
        "    'metrics': 'auc',\n",
        "    'objective': 'binary'\n",
        "}\n",
        "clf = lgb.LGBMClassifier(**params)\n",
        "#get predict\n",
        "clf.fit(df_train[features].to_numpy(), y.to_numpy().reshape(-1, 1))\n",
        "get_predict(clf, df_test[features], data_testTR['TransactionID'], \"RFETSS5_ADV_COV60_quant___.csv\")"
      ],
      "execution_count": 0,
      "outputs": []
    },
    {
      "cell_type": "markdown",
      "metadata": {
        "id": "7lsdBs24ujIN",
        "colab_type": "text"
      },
      "source": [
        "# RFETSS5 + Time dependence + cov. without date dependence features\n",
        "# Kaggle: 0.932(cov<0.6); 0.9282(cov<0.67)"
      ]
    },
    {
      "cell_type": "code",
      "metadata": {
        "id": "x22ZeB9nRXlp",
        "colab_type": "code",
        "outputId": "de828365-f193-4728-8166-83c58f16f037",
        "colab": {
          "base_uri": "https://localhost:8080/",
          "height": 119
        }
      },
      "source": [
        "#preprocessing\n",
        "features = [ 'D4', 'D10', 'D15', 'V39', 'V40', 'V43', 'V64', 'V81', 'V85', 'id_13',\n",
        "                'transaction_std', 'card1_count', 'card1_mean', 'card2_count', 'trans_card_mean',\n",
        "                'trans_card_std', 'card4_trans_mean', 'addr1_frequency', 'addr_trans', 'addr_card_med',\n",
        "                'addrcard', 'TransactionAmt_card2', 'TransactionAmt_card3', 'TransactionAmt_card4',\n",
        "                'TransactionAmt_card5', 'TransactionAmt_card6', 'TransactionAmt_D15', 'TransactionAmt_C13',\n",
        "                'TransactionAmt_addr1', 'TransactionAmt_dist1', 'TransactionAmt_R_emaildomain', 'TransactionAmt_M2',\n",
        "                'TransactionAmt_M4', 'TransactionAmt_trans_hour', 'card1_card2', 'card1_card3', 'card1_card4',\n",
        "                'card1_card5', 'card1_card6', 'card1_D15', 'card1_C13', 'card1_addr1', 'card1_dist1',\n",
        "                'card1_R_emaildomain', 'card1_M2', 'card1_M4', 'card2_card3', 'card2_card4', 'card2_card5',\n",
        "                'card2_card6', 'card2_D15', 'card2_C13', 'card2_addr1', 'card2_dist1', 'card2_R_emaildomain',\n",
        "                'card2_M2', 'card2_M4', 'card2_trans_hour', 'card3_card4', 'card3_card5', 'card3_card6', 'card3_D15',\n",
        "                'card3_C13', 'card3_addr1', 'card3_dist1', 'card3_R_emaildomain', 'card3_M2', 'card3_M4',\n",
        "                'card3_trans_hour', 'card4_card5', 'card4_card6', 'card4_D15', 'card4_C13', 'card4_addr1',\n",
        "                'card4_dist1', 'card4_R_emaildomain', 'card4_M2', 'card4_M4', 'card4_trans_hour', 'card5_card6',\n",
        "                'card5_D15', 'card5_C13', 'card5_addr1', 'card5_dist1', 'card5_R_emaildomain', 'card5_M2',\n",
        "                'card5_M4', 'card5_trans_hour', 'card6_D15', 'card6_C13', 'card6_addr1', 'card6_dist1',\n",
        "                'card6_R_emaildomain', 'card6_M2', 'card6_M4', 'card6_trans_hour', 'D15_C13', 'D15_addr1',\n",
        "                'D15_dist1', 'D15_R_emaildomain', 'D15_M2', 'D15_M4', 'D15_trans_hour', 'C13_addr1', 'C13_dist1',\n",
        "                'C13_R_emaildomain', 'C13_M2', 'C13_M4', 'C13_trans_hour', 'addr1_dist1', 'addr1_R_emaildomain',\n",
        "                'addr1_M2', 'addr1_M4', 'addr1_trans_hour', 'dist1_R_emaildomain', 'dist1_M2', 'dist1_M4',\n",
        "                'dist1_trans_hour', 'R_emaildomain_M2', 'R_emaildomain_M4', 'R_emaildomain_trans_hour',\n",
        "                'M2_M4', 'M2_trans_hour', 'M4_trans_hour']\n",
        "\n",
        "df_train = pipeline(data_trainTR, data_trainID)\n",
        "df_train = reduce_mem_usage(df_train)\n",
        "df_test = pipeline(data_testTR, data_testID)\n",
        "df_test = reduce_mem_usage(df_test)\n",
        "\n",
        "df_train['week'] = data_trainTR['TransactionDT'] // 86400*7\n",
        "df_test['week'] = data_testTR['TransactionDT'] // 86400*7\n",
        "for feature in features:\n",
        "    df_train[feature+'_weak'] = df_train.groupby(by='week')[feature].transform('mean') - df_train[feature]         \n",
        "    df_test[feature+'_weak'] = df_test.groupby(by='week')[feature].transform('mean') - df_test[feature]"
      ],
      "execution_count": 0,
      "outputs": [
        {
          "output_type": "stream",
          "text": [
            "Memory usage before: 2700.0 MB\n",
            "Memory usage after: 1099.0 MB\n",
            "Optimization: 59.0%\n",
            "Memory usage before: 2313.0 MB\n",
            "Memory usage after: 942.0 MB\n",
            "Optimization: 59.0%\n"
          ],
          "name": "stdout"
        }
      ]
    },
    {
      "cell_type": "code",
      "metadata": {
        "id": "XMImTfK9T0n9",
        "colab_type": "code",
        "outputId": "fad37dff-e3cb-4a41-8e01-d0cca793cb93",
        "colab": {
          "base_uri": "https://localhost:8080/",
          "height": 119
        }
      },
      "source": [
        "features = ['TransactionAmt', 'ProductCD', 'card1', 'card2', 'card3', 'card5', 'addr1', 'dist1', 'dist2', 'R_emaildomain',\n",
        "            'C1', 'C2', 'C4', 'C5', 'C6', 'C7', 'C8', 'C9', 'C10', 'C11', 'C12', 'C13', 'C14', 'D1', 'D2', 'D3', 'D5',\n",
        "            'D6', 'D7', 'D8', 'D9', 'D11', 'D12', 'D13', 'D14', 'M3', 'M4', 'M5', 'M6', 'M7', 'M8', 'M9', 'V2', 'V4',\n",
        "            'V5', 'V6', 'V7', 'V10', 'V12', 'V13', 'V30', 'V34', 'V35', 'V36', 'V37', 'V38', 'V44', 'V45', 'V47', 'V48',\n",
        "            'V49', 'V52', 'V53', 'V54', 'V58', 'V70', 'V73', 'V74', 'V75', 'V76', 'V77', 'V78', 'V79', 'V83', 'V86', 'V87',\n",
        "            'V90', 'V91', 'V94', 'V96', 'V99', 'V102', 'V124', 'V126', 'V127', 'V128', 'V130', 'V131', 'V133', 'V134',\n",
        "            'V139', 'V140', 'V149', 'V150', 'V156', 'V169', 'V170', 'V171', 'V178', 'V184', 'V187', 'V189', 'V197', 'V200',\n",
        "            'V202', 'V203', 'V204', 'V205', 'V206', 'V207', 'V208', 'V209', 'V210', 'V212', 'V214', 'V215', 'V216', 'V217',\n",
        "            'V220', 'V221', 'V222', 'V224', 'V229', 'V232', 'V234', 'V245', 'V251', 'V253', 'V256', 'V257', 'V258', 'V259',\n",
        "            'V260', 'V261', 'V263', 'V264', 'V265', 'V266', 'V267', 'V268', 'V270', 'V271', 'V272', 'V273', 'V274', 'V276',\n",
        "            'V277', 'V278', 'V281', 'V282', 'V283', 'V291', 'V292', 'V293', 'V294', 'V300', 'V303', 'V306', 'V307', 'V308',\n",
        "            'V312', 'V313', 'V315', 'V316', 'V317', 'V318', 'id_01', 'id_02', 'id_03', 'id_05', 'id_06', 'id_09', 'id_11',\n",
        "            'id_15', 'id_16', 'id_17', 'id_18', 'id_19', 'id_20', 'id_31', 'id_36', 'id_37', 'DeviceType', 'DeviceInfo',\n",
        "            'transaction_digits', 'transaction_count', 'trans_hour', 'trans_cent', 'prod_stdq', 'card1_count_q',\n",
        "            'trans_card1_mean', 'trans_card1_mean_rel', 'card1_addr1_mean', 'card2_out', 'card2_q', 'trans_card_mean_q',\n",
        "            'trans_card_std_q', 'trans_card_med', 'addr_trans_q', 'addr_card_q', 'C1_trans_div_q', 'C2_trans_div_q',\n",
        "            'C3_trans_div_q', 'C4_trans_div_q', 'C5_trans_div_q', 'C6_trans_div', 'C6_trans_div_q', 'C7_trans_div',\n",
        "            'C7_trans_div_q', 'C8_trans_div_q', 'C9_trans_div_q', 'C10_trans_div_q', 'C12_trans_div_q', 'C13_trans_div_q',\n",
        "            'C14_trans_div_q', 'TransactionAmt_card1', 'card1_trans_hour']\n",
        "\n",
        "#cov<0.6['addr_card_med_weak']\n",
        "low_timedep_features = ['addr_card_med_weak', 'TransactionAmt_card2_weak', 'TransactionAmt_trans_hour_weak', 'card2_addr1_weak', 'addr1_trans_hour_weak']\n",
        "features += low_timedep_features\n",
        "\n",
        "#default params\n",
        "params = {\n",
        "    'n_leaves': 450,\n",
        "    'n_estimators': 700,\n",
        "    'learning_rate': 0.05,\n",
        "    'metrics': 'auc',\n",
        "    'objective': 'binary'\n",
        "}\n",
        "clf = lgb.LGBMClassifier(**params)\n",
        "\n",
        "#valid scores\n",
        "y = data_trainTR['isFraud']\n",
        "valid_scores(clf, df_train[features], y)\n",
        "\n",
        "#get predict\n",
        "clf.fit(df_train[features].to_numpy(), y.to_numpy().reshape(-1, 1))\n",
        "get_predict(clf, df_test[features], data_testTR['TransactionID'], name='cov67.csv')"
      ],
      "execution_count": 0,
      "outputs": [
        {
          "output_type": "stream",
          "text": [
            "//////////////////////////////\n",
            "TTS5: 0.9077218230625285\n",
            "KF5: 0.9208322256999155\n",
            "Test3/4_kaggle: 0.9141832160934672\n",
            "Avg. score: 0.9142457549519704\n",
            "//////////////////////////////\n"
          ],
          "name": "stdout"
        }
      ]
    },
    {
      "cell_type": "markdown",
      "metadata": {
        "id": "-izTzJsFl2Y1",
        "colab_type": "text"
      },
      "source": [
        "# New cross validation strategy(5 scores + linear regression model)"
      ]
    },
    {
      "cell_type": "code",
      "metadata": {
        "id": "sDqCwzD1l8gS",
        "colab_type": "code",
        "outputId": "2a0cd1b7-a56e-4e56-8d20-f91c77f65eb1",
        "colab": {
          "base_uri": "https://localhost:8080/",
          "height": 1000
        }
      },
      "source": [
        "features1 = ['TransactionAmt', 'ProductCD', 'card1', 'card2', 'card3', 'card5', 'addr1', 'dist1', 'dist2', 'R_emaildomain',\n",
        "            'C1', 'C2', 'C4', 'C5', 'C6', 'C7', 'C8', 'C9', 'C10', 'C11', 'C12', 'C13', 'C14', 'D1', 'D2', 'D3', 'D5',\n",
        "            'D6', 'D7', 'D8', 'D9', 'D11', 'D12', 'D13', 'D14', 'M3', 'M4', 'M5', 'M6', 'M7', 'M8', 'M9', 'V2', 'V4',\n",
        "            'V5', 'V6', 'V7', 'V10', 'V12', 'V13', 'V30', 'V34', 'V35', 'V36', 'V37', 'V38', 'V44', 'V45', 'V47', 'V48',\n",
        "            'V49', 'V52', 'V53', 'V54', 'V58', 'V70', 'V73', 'V74', 'V75', 'V76', 'V77', 'V78', 'V79', 'V83', 'V86', 'V87',\n",
        "            'V90', 'V91', 'V94', 'V96', 'V99', 'V102', 'V124', 'V126', 'V127', 'V128', 'V130', 'V131', 'V133', 'V134',\n",
        "            'V139', 'V140', 'V149', 'V150', 'V156', 'V169', 'V170', 'V171', 'V178', 'V184', 'V187', 'V189', 'V197', 'V200',\n",
        "            'V202', 'V203', 'V204', 'V205', 'V206', 'V207', 'V208', 'V209', 'V210', 'V212', 'V214', 'V215', 'V216', 'V217',\n",
        "            'V220', 'V221', 'V222', 'V224', 'V229', 'V232', 'V234', 'V245', 'V251', 'V253', 'V256', 'V257', 'V258', 'V259',\n",
        "            'V260', 'V261', 'V263', 'V264', 'V265', 'V266', 'V267', 'V268', 'V270', 'V271', 'V272', 'V273', 'V274', 'V276',\n",
        "            'V277', 'V278', 'V281', 'V282', 'V283', 'V291', 'V292', 'V293', 'V294', 'V300', 'V303', 'V306', 'V307', 'V308',\n",
        "            'V312', 'V313', 'V315', 'V316', 'V317', 'V318', 'id_01', 'id_02', 'id_03', 'id_05', 'id_06', 'id_09', 'id_11',\n",
        "            'id_15', 'id_16', 'id_17', 'id_18', 'id_19', 'id_20', 'id_31', 'id_36', 'id_37', 'DeviceType', 'DeviceInfo',\n",
        "            'transaction_digits', 'transaction_count', 'trans_hour', 'trans_cent', 'prod_stdq', 'card1_count_q',\n",
        "            'trans_card1_mean', 'trans_card1_mean_rel', 'card1_addr1_mean', 'card2_out', 'card2_q', 'trans_card_mean_q',\n",
        "            'trans_card_std_q', 'trans_card_med', 'addr_trans_q', 'addr_card_q', 'C1_trans_div_q', 'C2_trans_div_q',\n",
        "            'C3_trans_div_q', 'C4_trans_div_q', 'C5_trans_div_q', 'C6_trans_div', 'C6_trans_div_q', 'C7_trans_div',\n",
        "            'C7_trans_div_q', 'C8_trans_div_q', 'C9_trans_div_q', 'C10_trans_div_q', 'C12_trans_div_q', 'C13_trans_div_q',\n",
        "            'C14_trans_div_q', 'TransactionAmt_card1', 'card1_trans_hour']\n",
        "\n",
        "features2 = ['card5', 'addr1', 'dist1', 'dist2', 'R_emaildomain',\n",
        "            'C1', 'C2', 'C4', 'C5', 'C6', 'C7', 'C8', 'C9', 'C10', 'C11', 'C12', 'C13', 'C14', 'D1', 'D2', 'D3', 'D5',\n",
        "            'D6', 'D7', 'D8', 'D9', 'D11', 'D12', 'D13', 'D14', 'M3', 'M4', 'M5', 'M6', 'M7', 'M8', 'M9', 'V2', 'V4',\n",
        "            'V5', 'V6', 'V7', 'V10', 'V12', 'V13', 'V30', 'V34', 'V35', 'V36', 'V37', 'V38', 'V44', 'V45', 'V47', 'V48',\n",
        "            'V49', 'V52', 'V53', 'V54', 'V58', 'V70', 'V73', 'V74', 'V75', 'V76', 'V77', 'V78', 'V79', 'V83', 'V86', 'V87',\n",
        "            'V90', 'V91', 'V94', 'V96', 'V99', 'V102', 'V124', 'V126', 'V127', 'V128', 'V130', 'V131', 'V133', 'V134',\n",
        "            'V139', 'V140', 'V149', 'V150', 'V156', 'V169', 'V170', 'V171', 'V178', 'V184', 'V187', 'V189', 'V197', 'V200',\n",
        "            'V202', 'V203', 'V204', 'V205', 'V206', 'V207', 'V208', 'V209', 'V210', 'V212', 'V214', 'V215', 'V216', 'V217',\n",
        "            'V220', 'V221', 'V222', 'V224', 'V229', 'V232', 'V234', 'V245', 'V251', 'V253']\n",
        "\n",
        "features3 = ['addr_card_q', 'C1_trans_div_q', 'C2_trans_div_q',\n",
        "            'C3_trans_div_q', 'C4_trans_div_q', 'C5_trans_div_q', 'C6_trans_div', 'C6_trans_div_q', 'C7_trans_div',\n",
        "            'C7_trans_div_q', 'C8_trans_div_q', 'C9_trans_div_q', 'C10_trans_div_q', 'C12_trans_div_q', 'C13_trans_div_q',\n",
        "            'C14_trans_div_q', 'TransactionAmt_card1', 'card1_trans_hour']\n",
        "\n",
        "features4 = ['TransactionAmt', 'ProductCD', 'card1', 'card2', 'card3', 'card5', 'addr1', 'dist1', 'dist2', 'R_emaildomain',\n",
        "            'C1', 'C2', 'C4', 'C5', 'C6', 'C7', 'C8', 'C9', 'C10', 'C11', 'C12', 'C13', 'C14', 'D1', 'D2', 'D3', 'D4',\n",
        "            'D5', 'D6', 'D7', 'D8', 'D9', 'D10', 'D11', 'D12', 'D13', 'D14', 'D15', 'M3', 'M4', 'M5', 'M6', 'M7', 'M8',\n",
        "            'M9', 'V2', 'V4', 'V5', 'V6', 'V7', 'V10', 'V12', 'V13', 'V30', 'V34', 'V35', 'V36', 'V37', 'V38', 'V39',\n",
        "            'V40', 'V43', 'V44', 'V45', 'V47', 'V48', 'V49', 'V52', 'V53', 'V54', 'V58', 'V64', 'V70', 'V73', 'V74', 'V75',\n",
        "            'V76', 'V77', 'V78', 'V79', 'V81', 'V83', 'V85', 'V86', 'V87', 'V90', 'V91', 'V94', 'V96', 'V99', 'V102',\n",
        "            'V124', 'V126', 'V127', 'V128', 'V130', 'V131', 'V133', 'V134', 'V139', 'V140', 'V149', 'V150', 'V156', 'V169',\n",
        "            'V170', 'V171', 'V178', 'V184', 'V187', 'V189', 'V197', 'V200', 'V202', 'V203', 'V204', 'V205', 'V206', 'V207',\n",
        "            'V208', 'V209', 'V210', 'V212', 'V214', 'V215', 'V216', 'V217', 'V220', 'V221', 'V222', 'V224', 'V229', 'V232',\n",
        "            'V234', 'V245', 'V251', 'V253', 'V256', 'V257', 'V258', 'V259', 'V260', 'V261', 'V263', 'V264', 'V265', 'V266',\n",
        "            'V267', 'V268', 'V270', 'V271', 'V272', 'V273', 'V274', 'V276', 'V277', 'V278', 'V281', 'V282', 'V283', 'V291',\n",
        "            'V292', 'V293', 'V294', 'V300', 'V303', 'V306', 'V307', 'V308', 'V312', 'V313', 'V315', 'V316', 'V317', 'V318',\n",
        "            'id_01', 'id_02', 'id_03', 'id_05', 'id_06', 'id_09', 'id_11', 'id_13', 'id_15', 'id_16', 'id_17', 'id_18',\n",
        "            'id_19', 'id_20', 'id_31', 'id_36', 'id_37', 'DeviceType', 'DeviceInfo', 'transaction_digits', 'transaction_count',\n",
        "            'trans_hour', 'trans_cent', 'prod_stdq', 'card1_count_q', 'trans_card1_mean', 'trans_card1_mean_rel', 'card1_mean',\n",
        "            'card1_addr1_mean', 'card2_out', 'card2_q', 'trans_card_mean_q', 'trans_card_std_q', 'card4_trans_mean',\n",
        "            'trans_card_med', 'addr_trans', 'addr_trans_q', 'addr_card_med', 'addr_card_q', 'addrcard', 'C1_trans_div',\n",
        "            'C1_trans_div_q', 'C2_trans_div_q', 'C3_trans_div_q', 'C4_trans_div_q', 'C5_trans_div_q', 'C6_trans_div',\n",
        "            'C6_trans_div_q', 'C7_trans_div', 'C7_trans_div_q', 'C8_trans_div_q', 'C9_trans_div_q', 'C10_trans_div_q',\n",
        "            'C12_trans_div_q', 'C13_trans_div', 'C13_trans_div_q', 'C14_trans_div', 'C14_trans_div_q', 'TransactionAmt_card1',\n",
        "            'TransactionAmt_card2', 'TransactionAmt_D15', 'TransactionAmt_C13', 'TransactionAmt_addr1', 'TransactionAmt_dist1',\n",
        "            'TransactionAmt_trans_hour', 'card1_D15', 'card1_C13', 'card1_addr1', 'card1_dist1', 'card1_R_emaildomain',\n",
        "            'card1_M2', 'card1_M4', 'card1_trans_hour', 'card2_D15', 'card2_C13', 'card2_addr1', 'card2_trans_hour', 'addr1_trans_hour']\n",
        "\n",
        "features5 = ['TransactionAmt', 'ProductCD', 'card1', 'card2', 'card3', 'card5', 'addr1', 'dist1', 'dist2',\n",
        "            'P_emaildomain', 'R_emaildomain', 'C1', 'C2', 'C4', 'C5', 'C6', 'C7', 'C8', 'C9', 'C10', 'C11',\n",
        "            'C12', 'C13', 'C14', 'D1', 'D2', 'D3', 'D4', 'D5', 'D6', 'D7', 'D8', 'D9', 'D10', 'D11', 'D12',\n",
        "            'D13', 'D14', 'D15', 'M3', 'M4', 'M5', 'M6', 'M7', 'M8', 'M9', 'V2', 'V4', 'V5', 'V6', 'V7', 'V10',\n",
        "            'V12', 'V13', 'V30', 'V34', 'V35', 'V36', 'V37', 'V38', 'V39', 'V40', 'V43', 'V44', 'V45', 'V47',\n",
        "            'V48', 'V49', 'V52', 'V53', 'V54', 'V58', 'V64', 'V70', 'V73', 'V74', 'V75', 'V76', 'V77', 'V78',\n",
        "            'V79', 'V81', 'V83', 'V85', 'V86', 'V87', 'V90', 'V91', 'V94', 'V96', 'V99', 'V102', 'V124', 'V126',\n",
        "            'V127', 'V128', 'V130', 'V131', 'V133', 'V134', 'V139', 'V140', 'V149', 'V150', 'V156', 'V169', 'V170',\n",
        "            'V171', 'V178', 'V184', 'V187', 'V189', 'V197', 'V200', 'V202', 'V203', 'V204', 'V205', 'V206', 'V207',\n",
        "            'V208', 'V209', 'V210', 'V212', 'V214', 'V215', 'V216', 'V217', 'V220', 'V221', 'V222', 'V224', 'V229',\n",
        "            'V232', 'V234', 'V245', 'V251', 'V253', 'V256', 'V257', 'V258', 'V259', 'V260', 'V261', 'V263', 'V264',\n",
        "            'V265', 'V266', 'V267', 'V268', 'V270', 'V271', 'V272', 'V273', 'V274', 'V276', 'V277', 'V278', 'V281',\n",
        "            'V282', 'V283', 'V291', 'V292', 'V293', 'V294', 'V300', 'V303', 'V306', 'V307', 'V308', 'V312', 'V313',\n",
        "            'V315', 'V316', 'V317', 'V318', 'id_01', 'id_02', 'id_03', 'id_05', 'id_06', 'id_09', 'id_11', 'id_13',\n",
        "            'id_15', 'id_16', 'id_17', 'id_18', 'id_19', 'id_20', 'id_31', 'id_36', 'id_37', 'DeviceType', 'DeviceInfo',\n",
        "            'transaction_std', 'transaction_digits', 'transaction_count', 'trans_hour', 'trans_cent', 'prod_stdq',\n",
        "            'card1_count', 'card1_count_q', 'trans_card1_mean', 'trans_card1_mean_rel', 'card1_mean', 'card1_addr1_mean',\n",
        "            'card2_count', 'card2_out', 'card2_q', 'trans_card_mean', 'trans_card_mean_q', 'trans_card_std',\n",
        "            'trans_card_std_q', 'card4_trans_mean', 'trans_card_med', 'addr1_frequency', 'addr_trans', 'addr_trans_q',\n",
        "            'addr_card_med', 'addr_card_q', 'addrcard', 'C1_trans_div', 'C1_trans_div_q', 'C2_trans_div', 'C2_trans_div_q',\n",
        "            'C3_trans_div', 'C3_trans_div_q', 'C4_trans_div', 'C4_trans_div_q', 'C5_trans_div', 'C5_trans_div_q',\n",
        "            'C6_trans_div', 'C6_trans_div_q', 'C7_trans_div', 'C7_trans_div_q', 'C8_trans_div', 'C8_trans_div_q',\n",
        "            'C9_trans_div', 'C9_trans_div_q', 'C10_trans_div', 'C10_trans_div_q', 'C11_trans_div', 'C12_trans_div',\n",
        "            'C12_trans_div_q', 'C13_trans_div', 'C13_trans_div_q', 'C14_trans_div', 'C14_trans_div_q', 'TransactionAmt_card1',\n",
        "            'TransactionAmt_card2', 'TransactionAmt_card3', 'TransactionAmt_card4', 'TransactionAmt_card5',\n",
        "            'TransactionAmt_card6', 'TransactionAmt_D15', 'TransactionAmt_C13', 'TransactionAmt_addr1', 'TransactionAmt_dist1',\n",
        "            'TransactionAmt_R_emaildomain', 'TransactionAmt_M2', 'TransactionAmt_M4', 'TransactionAmt_trans_hour',\n",
        "            'card1_card2', 'card1_card3', 'card1_card4', 'card1_card5', 'card1_card6', 'card1_D15', 'card1_C13',\n",
        "            'card1_addr1', 'card1_dist1', 'card1_R_emaildomain', 'card1_M2', 'card1_M4', 'card1_trans_hour', 'card2_card3',\n",
        "            'card2_card4', 'card2_card5', 'card2_card6', 'card2_D15', 'card2_C13', 'card2_addr1', 'card2_dist1',\n",
        "            'card2_R_emaildomain', 'card2_M2', 'card2_M4', 'card2_trans_hour', 'card3_card4', 'card3_card5', 'card3_card6',\n",
        "            'card3_D15', 'card3_C13', 'card3_addr1', 'card3_dist1', 'card3_R_emaildomain', 'card3_M2', 'card3_M4',\n",
        "            'card3_trans_hour', 'card4_card5', 'card4_card6', 'card4_D15', 'card4_C13', 'card4_addr1', 'card4_dist1',\n",
        "            'card4_R_emaildomain', 'card4_M2', 'card4_M4', 'card4_trans_hour', 'card5_card6', 'card5_D15', 'card5_C13',\n",
        "            'card5_addr1', 'card5_dist1', 'card5_R_emaildomain', 'card5_M2', 'card5_M4', 'card5_trans_hour', 'card6_D15',\n",
        "            'card6_C13', 'card6_addr1', 'card6_dist1', 'card6_R_emaildomain', 'card6_M2', 'card6_M4', 'card6_trans_hour',\n",
        "            'D15_C13', 'D15_addr1', 'D15_dist1', 'D15_R_emaildomain', 'D15_M2', 'D15_M4', 'D15_trans_hour', 'C13_addr1',\n",
        "            'C13_dist1', 'C13_R_emaildomain', 'C13_M2', 'C13_M4', 'C13_trans_hour', 'addr1_dist1', 'addr1_R_emaildomain',\n",
        "            'addr1_M2', 'addr1_M4', 'addr1_trans_hour', 'dist1_R_emaildomain', 'dist1_M2', 'dist1_M4', 'dist1_trans_hour',\n",
        "            'R_emaildomain_M2', 'R_emaildomain_M4', 'R_emaildomain_trans_hour', 'M2_M4', 'M2_trans_hour', 'M4_trans_hour']\n",
        "\n",
        "params = {\n",
        "    'n_leaves': 450,\n",
        "    'n_estimators': 700,\n",
        "    'learning_rate': 0.05,\n",
        "    'metrics': 'auc',\n",
        "    'objective': 'binary'\n",
        "    }\n",
        "clf = lgb.LGBMClassifier(**params)\n",
        "\n",
        "df_train = pipeline(data_trainTR, data_trainID)\n",
        "df_train = reduce_mem_usage(df_train)\n",
        "df_test = pipeline(data_testTR, data_testID)\n",
        "df_test = reduce_mem_usage(df_test)\n",
        "\n",
        "y = data_trainTR['isFraud']\n",
        "features = {\"f1\": features1, \"f2\": features2, \"f3\":features3, \"f4\":features4, \"f5\":features5}\n",
        "\n",
        "for feature_pack in features.keys():\n",
        "    valid_scores(clf, df_train[features[feature_pack]], y)\n",
        "\n",
        "    clf.fit(df_train[features[feature_pack]].to_numpy(), y.to_numpy().reshape(-1, 1))\n",
        "    get_predict(clf, df_test[features[feature_pack]], data_testTR['TransactionID'], name=feature_pack+'_.csv')"
      ],
      "execution_count": 0,
      "outputs": [
        {
          "output_type": "stream",
          "text": [
            "Memory usage before: 2700.0 MB\n",
            "Memory usage after: 1099.0 MB\n",
            "Optimization: 59.0%\n",
            "Memory usage before: 2313.0 MB\n",
            "Memory usage after: 942.0 MB\n",
            "Optimization: 59.0%\n",
            "//////////////////////////////\n",
            "TTS5: 0.9083847130442718\n",
            "Train3Test1: 0.9117563267914245\n",
            "TTS3: 0.9039339146400441\n",
            "First2Last2: 0.8726314471298847\n",
            "FirstHalfLastHalf: 0.8937049601599345\n",
            "First2-3LastMonth: 0.8760628244092235\n",
            "First2Miss1Next2: 0.8781147954243673\n",
            "KF5: 0.9214257611389337\n",
            "Avg. score: 0.8957518428422605\n",
            "//////////////////////////////\n",
            "//////////////////////////////\n",
            "TTS5: 0.8889965301730991\n",
            "Train3Test1: 0.8955781022480203\n",
            "TTS3: 0.8859402469607293\n",
            "First2Last2: 0.8527334674145495\n",
            "FirstHalfLastHalf: 0.8790280340732963\n",
            "First2-3LastMonth: 0.866207188536926\n",
            "First2Miss1Next2: 0.8569414247138913\n",
            "KF5: 0.9028537489644218\n",
            "Avg. score: 0.8785348428856167\n",
            "//////////////////////////////\n",
            "//////////////////////////////\n",
            "TTS5: 0.786169348979314\n",
            "Train3Test1: 0.7990795993003439\n",
            "TTS3: 0.7835749516514662\n",
            "First2Last2: 0.7652212523126842\n",
            "FirstHalfLastHalf: 0.7831057279509468\n",
            "First2-3LastMonth: 0.7683792842131902\n",
            "First2Miss1Next2: 0.7681356699457048\n",
            "KF5: 0.8010950324961277\n",
            "Avg. score: 0.7818451083562222\n",
            "//////////////////////////////\n",
            "//////////////////////////////\n",
            "TTS5: 0.9085702485889611\n",
            "Train3Test1: 0.9145779976985358\n",
            "TTS3: 0.9043936436494947\n",
            "First2Last2: 0.8716639853421747\n",
            "FirstHalfLastHalf: 0.8968328782061035\n",
            "First2-3LastMonth: 0.8747540801330415\n",
            "First2Miss1Next2: 0.8770853662981581\n",
            "KF5: 0.9242265079086417\n",
            "Avg. score: 0.8965130884781389\n",
            "//////////////////////////////\n",
            "//////////////////////////////\n",
            "TTS5: 0.9131999319184123\n",
            "Train3Test1: 0.919525989144737\n",
            "TTS3: 0.9089014231908114\n",
            "First2Last2: 0.868749908065213\n",
            "FirstHalfLastHalf: 0.9014243765377088\n",
            "First2-3LastMonth: 0.8819445389722476\n",
            "First2Miss1Next2: 0.8782231117530039\n",
            "KF5: 0.9267756247591616\n",
            "Avg. score: 0.899843113042662\n",
            "//////////////////////////////\n"
          ],
          "name": "stdout"
        }
      ]
    },
    {
      "cell_type": "code",
      "metadata": {
        "id": "ZQ08uIpU0gw7",
        "colab_type": "code",
        "outputId": "e496f9df-9c5b-4c13-9895-f86b6881ab22",
        "colab": {
          "base_uri": "https://localhost:8080/",
          "height": 357
        }
      },
      "source": [
        "X = np.array([[0.9083847130442718, 0.9117563267914245, 0.9039339146400441, 0.8726314471298847, 0.8937049601599345, 0.8760628244092235, 0.8781147954243673, 0.9214257611389337],\n",
        "              [0.8889965301730991, 0.8955781022480203, 0.8859402469607293, 0.8527334674145495, 0.8790280340732963, 0.866207188536926, 0.8569414247138913, 0.9028537489644218],\n",
        "              [0.786169348979314, 0.7990795993003439, 0.7835749516514662, 0.7652212523126842, 0.7831057279509468, 0.7683792842131902, 0.7681356699457048, 0.8010950324961277],\n",
        "              [0.9085702485889611, 0.9145779976985358, 0.9043936436494947, 0.8716639853421747, 0.8968328782061035, 0.8747540801330415, 0.8770853662981581, 0.9242265079086417],\n",
        "              [0.9131999319184123, 0.919525989144737, 0.9089014231908114, 0.868749908065213, 0.9014243765377088, 0.8819445389722476, 0.8782231117530039, 0.9267756247591616],\n",
        "              [0.8497213569481181, 0.8620933558114725, 0.8435942498339318, 0.8162645862139922, 0.8478586618428019, 0.8276650588496732, 0.8198471183389952, 0.8649684164719927],\n",
        "              [0.8134302031175521, 0.8374867280619759, 0.8144776703804819, 0.7820280644783477, 0.8140966870808065, 0.8097818321089025, 0.7805501574164044, 0.8296025958388802]])\n",
        "y = np.array([[0.905669], [0.884856], [0.785167], [0.898599], [0.872337], [0.853891], [0.824170]])\n",
        "\n",
        "df = pd.DataFrame(data=X)\n",
        "df = pd.concat([df, pd.Series(y.reshape(-1,))], axis=1)\n",
        "df.columns = ['tts5', 'train3test1', 'tts3', 'first2last2', 'firstHalfLastHalf', 'first2-3', 'First2Miss', 'KF5', 'kaggle score']\n",
        "df['Avg'] = df[df.columns[:-1].to_list()].sum(axis=1) / 8\n",
        "sns.heatmap(df.corr(), annot=True)"
      ],
      "execution_count": 0,
      "outputs": [
        {
          "output_type": "execute_result",
          "data": {
            "text/plain": [
              "<matplotlib.axes._subplots.AxesSubplot at 0x7fdbf2f0aeb8>"
            ]
          },
          "metadata": {
            "tags": []
          },
          "execution_count": 49
        },
        {
          "output_type": "display_data",
          "data": {
            "image/png": "[encoded data removed]",
            "text/plain": [
              "<Figure size 432x288 with 2 Axes>"
            ]
          },
          "metadata": {
            "tags": []
          }
        }
      ]
    },
    {
      "cell_type": "code",
      "metadata": {
        "id": "QoscJhl3bMlp",
        "colab_type": "code",
        "outputId": "3111e2af-5b8d-44ce-9037-c64b3851aeae",
        "colab": {
          "base_uri": "https://localhost:8080/",
          "height": 204
        }
      },
      "source": [
        "#test predict\n",
        "features = ['TransactionAmt', 'ProductCD', 'card1', 'card2', 'card3', 'card5', 'addr1', 'dist1', 'dist2',\n",
        "            'P_emaildomain', 'R_emaildomain', 'C1', 'C2', 'C4', 'C5', 'C6', 'C7', 'C8', 'C9', 'C10', 'C11',\n",
        "            'C12', 'C13', 'C14', 'D1', 'D2', 'D3', 'D4', 'D5', 'D6', 'D7', 'D8', 'D9', 'D10', 'D11', 'D12',\n",
        "            'D13', 'D14', 'D15', 'M3', 'M4', 'M5', 'M6', 'M7', 'M8', 'M9', 'V2', 'V4', 'V5', 'V6', 'V7', 'V10',\n",
        "            'V12', 'V13', 'V30', 'V34', 'V35', 'V36', 'V37', 'V38', 'V39', 'V40', 'V43', 'V44', 'V45', 'V47',\n",
        "            'V48', 'V49', 'V52', 'V53', 'V54', 'V58', 'V64', 'V70', 'V73', 'V74', 'V75', 'V76', 'V77', 'V78',\n",
        "            'V79', 'V81', 'V83', 'V85', 'V86', 'V87', 'V90', 'V91', 'V94', 'V96', 'V99', 'V102', 'V124', 'V126',\n",
        "            'V127', 'V128', 'V130', 'V131', 'V133', 'V134', 'V139', 'V140', 'V149', 'V150', 'V156', 'V169', 'V170',\n",
        "            'V171', 'V178', 'V184', 'V187', 'V189', 'V197', 'V200', 'V202', 'V203', 'V204', 'V205', 'V206', 'V207',\n",
        "            'V208', 'V209', 'V210', 'V212', 'V214', 'V215', 'V216', 'V217', 'V220', 'V221', 'V222', 'V224', 'V229',\n",
        "            'V232', 'V234', 'V245', 'V251', 'V253', 'V256', 'V257', 'V258', 'V259', 'V260', 'V261', 'V263', 'V264',\n",
        "            'V265', 'V266', 'V267', 'V268', 'V270', 'V271', 'V272', 'V273', 'V274', 'V276', 'V277', 'V278', 'V281',\n",
        "            'V282', 'V283', 'V291', 'V292', 'V293', 'V294', 'V300', 'V303', 'V306', 'V307', 'V308', 'V312', 'V313',\n",
        "            'V315', 'V316', 'V317', 'V318', 'id_01', 'id_02', 'id_03', 'id_05', 'id_06', 'id_09', 'id_11', 'id_13',\n",
        "            'id_15', 'id_16', 'id_17', 'id_18', 'id_19', 'id_20']\n",
        "\n",
        "params = {\n",
        "    'n_leaves': 450,\n",
        "    'n_estimators': 700,\n",
        "    'learning_rate': 0.05,\n",
        "    'metrics': 'auc',\n",
        "    'objective': 'binary'\n",
        "    }\n",
        "clf = lgb.LGBMClassifier(**params)\n",
        "y = data_trainTR['isFraud']\n",
        "valid_scores(clf, df_train[features], y)\n",
        "\n",
        "clf.fit(df_train[features].to_numpy(), y.to_numpy().reshape(-1, 1))\n",
        "get_predict(clf, df_test[features], data_testTR['TransactionID'], name='test1.csv')"
      ],
      "execution_count": 0,
      "outputs": [
        {
          "output_type": "stream",
          "text": [
            "//////////////////////////////\n",
            "TTS5: 0.9081038924400053\n",
            "Train3Test1: 0.9123124475103122\n",
            "TTS3: 0.9055060473147393\n",
            "First2Last2: 0.8678803641028474\n",
            "FirstHalfLastHalf: 0.8922058619522751\n",
            "First2-3LastMonth: 0.8721206515340632\n",
            "First2Miss1Next2: 0.8736984257088094\n",
            "KF5: 0.9203532951161773\n",
            "Avg. score: 0.8940226232099037\n",
            "//////////////////////////////\n"
          ],
          "name": "stdout"
        }
      ]
    },
    {
      "cell_type": "markdown",
      "metadata": {
        "id": "ffsEVoPwQeko",
        "colab_type": "text"
      },
      "source": [
        "# RFETSS5 + Time dependence + cov. without date dep. + new features"
      ]
    },
    {
      "cell_type": "code",
      "metadata": {
        "id": "yKEyzbH4g3Ok",
        "colab_type": "code",
        "outputId": "e8110399-755e-4ddb-ddd2-29d9fe2a8a6a",
        "colab": {
          "base_uri": "https://localhost:8080/",
          "height": 119
        }
      },
      "source": [
        "features = ['TransactionAmt', 'ProductCD', 'card1', 'card2', 'card3', 'card5', 'addr1', 'dist1', 'dist2', 'R_emaildomain',\n",
        "            'C1', 'C2', 'C4', 'C5', 'C6', 'C7', 'C8', 'C9', 'C10', 'C11', 'C12', 'C13', 'C14', 'D1', 'D2', 'D3', 'D5',\n",
        "            'D6', 'D7', 'D8', 'D9', 'D11', 'D12', 'D13', 'D14', 'M3', 'M4', 'M5', 'M6', 'M7', 'M8', 'M9', 'V2', 'V4',\n",
        "            'V5', 'V6', 'V7', 'V10', 'V12', 'V13', 'V30', 'V34', 'V35', 'V36', 'V37', 'V38', 'V44', 'V45', 'V47', 'V48',\n",
        "            'V49', 'V52', 'V53', 'V54', 'V58', 'V70', 'V73', 'V74', 'V75', 'V76', 'V77', 'V78', 'V79', 'V83', 'V86', 'V87',\n",
        "            'V90', 'V91', 'V94', 'V96', 'V99', 'V102', 'V124', 'V126', 'V127', 'V128', 'V130', 'V131', 'V133', 'V134',\n",
        "            'V139', 'V140', 'V149', 'V150', 'V156', 'V169', 'V170', 'V171', 'V178', 'V184', 'V187', 'V189', 'V197', 'V200',\n",
        "            'V202', 'V203', 'V204', 'V205', 'V206', 'V207', 'V208', 'V209', 'V210', 'V212', 'V214', 'V215', 'V216', 'V217',\n",
        "            'V220', 'V221', 'V222', 'V224', 'V229', 'V232', 'V234', 'V245', 'V251', 'V253', 'V256', 'V257', 'V258', 'V259',\n",
        "            'V260', 'V261', 'V263', 'V264', 'V265', 'V266', 'V267', 'V268', 'V270', 'V271', 'V272', 'V273', 'V274', 'V276',\n",
        "            'V277', 'V278', 'V281', 'V282', 'V283', 'V291', 'V292', 'V293', 'V294', 'V300', 'V303', 'V306', 'V307', 'V308',\n",
        "            'V312', 'V313', 'V315', 'V316', 'V317', 'V318', 'id_01', 'id_02', 'id_03', 'id_05', 'id_06', 'id_09', 'id_11',\n",
        "            'id_15', 'id_16', 'id_17', 'id_18', 'id_19', 'id_20', 'id_31', 'id_36', 'id_37', 'DeviceType', 'DeviceInfo',\n",
        "            'transaction_digits', 'transaction_count', 'trans_hour', 'trans_cent', 'prod_stdq', 'card1_count_q',\n",
        "            'trans_card1_mean', 'trans_card1_mean_rel', 'card1_addr1_mean', 'card2_out', 'card2_q', 'trans_card_mean_q',\n",
        "            'trans_card_std_q', 'trans_card_med', 'addr_trans_q', 'addr_card_q', 'C1_trans_div_q', 'C2_trans_div_q',\n",
        "            'C3_trans_div_q', 'C4_trans_div_q', 'C5_trans_div_q', 'C6_trans_div', 'C6_trans_div_q', 'C7_trans_div',\n",
        "            'C7_trans_div_q', 'C8_trans_div_q', 'C9_trans_div_q', 'C10_trans_div_q', 'C12_trans_div_q', 'C13_trans_div_q',\n",
        "            'C14_trans_div_q', 'TransactionAmt_card1', 'card1_trans_hour', 'addr_card_med_weak']\n",
        "\n",
        "new_features = ['card2_addr1', 'card2_C13', 'card2_card1', 'card3_card1', 'card5_card1',\n",
        "            'card6_card1', 'addr1_C13', 'addr1_card1', 'M4_card1','C1_card1', 'C13_card1']\n",
        "slash_features = ['id_02_card1', 'id_01_card1', 'R_emaildomain_card1']\n",
        "\n",
        "df_train = pipeline(data_trainTR, data_trainID)\n",
        "df_test = pipeline(data_testTR, data_testID)\n",
        "\n",
        "df_train['week'] = data_trainTR['TransactionDT'] // 86400*7\n",
        "df_test['week'] = data_testTR['TransactionDT'] // 86400*7\n",
        "df_train['addr_card_med_weak'] = df_train.groupby(by='week')['addr_card_med'].transform('mean') - df_train['addr_card_med']         \n",
        "df_test['addr_card_med_weak'] = df_test.groupby(by='week')['addr_card_med'].transform('mean') - df_test['addr_card_med']\n",
        "\n",
        "for nf in new_features:\n",
        "    f1, f2 = nf.split(\"_\")\n",
        "    df_train[nf] = df_train[f1].astype('str') + '_' + df_train[f2].astype('str')\n",
        "    df_train[nf+'_transGr'] = df_train.groupby(nf)['TransactionAmt'].transform('mean') - df_train['TransactionAmt']\n",
        "    df_test[nf] = df_test[f1].astype('str') + '_' + df_test[f2].astype('str')\n",
        "    df_test[nf+'_transGr'] = df_test.groupby(nf)['TransactionAmt'].transform('mean') - df_test['TransactionAmt']\n",
        "\n",
        "#slash features\n",
        "#df_train['id_02_transGr'] = df_train.groupby('id_02')['TransactionAmt'].transform('mean') - df_train['TransactionAmt']\n",
        "df_train['id_02_card1'] = df_train['id_02'].astype('str') + '_' + df_train['card1'].astype('str')\n",
        "df_train['id_02_card1_transGr'] = df_train.groupby('id_02_card1')['TransactionAmt'].transform('mean') - df_train['TransactionAmt']\n",
        "df_train['id_01_card1'] = df_train['id_01'].astype('str') + '_' + df_train['card1'].astype('str')\n",
        "df_train['id_01_card1_transGr'] = df_train.groupby('id_01_card1')['TransactionAmt'].transform('mean') - df_train['TransactionAmt']\n",
        "df_train['R_emaildomain_card1'] = df_train['R_emaildomain'].astype('str') + '_' + df_train['card1'].astype('str')\n",
        "df_train['R_emaildomain_card1_transGr'] = df_train.groupby('R_emaildomain_card1')['TransactionAmt'].transform('mean') - df_train['TransactionAmt']\n",
        "\n",
        "#df_test['id_02_transGr'] = df_test.groupby('id_02')['TransactionAmt'].transform('mean') - df_test['TransactionAmt']\n",
        "df_test['id_02_card1'] = df_test['id_02'].astype('str') + '_' + df_test['card1'].astype('str')\n",
        "df_test['id_02_card1_transGr'] = df_test.groupby('id_02_card1')['TransactionAmt'].transform('mean') - df_test['TransactionAmt']\n",
        "df_test['id_01_card1'] = df_test['id_01'].astype('str') + '_' + df_test['card1'].astype('str')\n",
        "df_test['id_01_card1_transGr'] = df_test.groupby('id_01_card1')['TransactionAmt'].transform('mean') - df_test['TransactionAmt']\n",
        "df_test['R_emaildomain_card1'] = df_test['R_emaildomain'].astype('str') + '_' + df_test['card1'].astype('str')\n",
        "df_test['R_emaildomain_card1_transGr'] = df_test.groupby('R_emaildomain_card1')['TransactionAmt'].transform('mean') - df_test['TransactionAmt']\n",
        "\n",
        "new_features = [f+'_transGr' for f in new_features]\n",
        "new_features += [sf+'_transGr' for sf in slash_features]\n",
        "features += new_features\n",
        "\n",
        "df_train = reduce_mem_usage(df_train[features])\n",
        "df_test = reduce_mem_usage(df_test[features])"
      ],
      "execution_count": 0,
      "outputs": [
        {
          "output_type": "stream",
          "text": [
            "Memory usage before: 1037.0 MB\n",
            "Memory usage after: 483.0 MB\n",
            "Optimization: 53.0%\n",
            "Memory usage before: 890.0 MB\n",
            "Memory usage after: 415.0 MB\n",
            "Optimization: 53.0%\n"
          ],
          "name": "stdout"
        }
      ]
    },
    {
      "cell_type": "code",
      "metadata": {
        "id": "s08j7K6ZH324",
        "colab_type": "code",
        "outputId": "58fbc66a-7c5a-45b7-89f4-efe2f3bf5e1b",
        "colab": {
          "base_uri": "https://localhost:8080/",
          "height": 119
        }
      },
      "source": [
        "#default params\n",
        "params = {\n",
        "    'n_leaves': 450,\n",
        "    'n_estimators': 700,\n",
        "    'learning_rate': 0.05,\n",
        "    'metrics': 'auc',\n",
        "    'objective': 'binary'\n",
        "}\n",
        "clf = lgb.LGBMClassifier(**params)\n",
        "\n",
        "#valid scores\n",
        "y = data_trainTR['isFraud']\n",
        "valid_scores(clf, df_train[features], y)\n",
        "\n",
        "#get predict\n",
        "clf.fit(df_train[features].to_numpy(), y.to_numpy().reshape(-1, 1))\n",
        "get_predict(clf, df_test[features], data_testTR['TransactionID'], name='ATAS2.csv')"
      ],
      "execution_count": 0,
      "outputs": [
        {
          "output_type": "stream",
          "text": [
            "//////////////////////////////\n",
            "TTS5: 0.907160609515293\n",
            "First2Last2_BEST_VALIDATION: 0.8696491222584176\n",
            "First2Miss1Next2: 0.8773750300479167\n",
            "Avg. score: 0.8847282539405424\n",
            "//////////////////////////////\n"
          ],
          "name": "stdout"
        }
      ]
    },
    {
      "cell_type": "markdown",
      "metadata": {
        "id": "eKPg2laxKfN3",
        "colab_type": "text"
      },
      "source": [
        "# Model hyperparameters optimize"
      ]
    },
    {
      "cell_type": "code",
      "metadata": {
        "id": "aW2gQ6ZzLbI8",
        "colab_type": "code",
        "outputId": "1197b49f-2608-4c98-d420-739cc5a0e265",
        "colab": {
          "base_uri": "https://localhost:8080/",
          "height": 119
        }
      },
      "source": [
        "features = ['TransactionAmt', 'ProductCD', 'card1', 'card2', 'card3', 'card5', 'addr1', 'dist1', 'dist2', 'R_emaildomain',\n",
        "            'C1', 'C2', 'C4', 'C5', 'C6', 'C7', 'C8', 'C9', 'C10', 'C11', 'C12', 'C13', 'C14', 'D1', 'D2', 'D3', 'D5',\n",
        "            'D6', 'D7', 'D8', 'D9', 'D11', 'D12', 'D13', 'D14', 'M3', 'M4', 'M5', 'M6', 'M7', 'M8', 'M9', 'V2', 'V4',\n",
        "            'V5', 'V6', 'V7', 'V10', 'V12', 'V13', 'V30', 'V34', 'V35', 'V36', 'V37', 'V38', 'V44', 'V45', 'V47', 'V48',\n",
        "            'V49', 'V52', 'V53', 'V54', 'V58', 'V70', 'V73', 'V74', 'V75', 'V76', 'V77', 'V78', 'V79', 'V83', 'V86', 'V87',\n",
        "            'V90', 'V91', 'V94', 'V96', 'V99', 'V102', 'V124', 'V126', 'V127', 'V128', 'V130', 'V131', 'V133', 'V134',\n",
        "            'V139', 'V140', 'V149', 'V150', 'V156', 'V169', 'V170', 'V171', 'V178', 'V184', 'V187', 'V189', 'V197', 'V200',\n",
        "            'V202', 'V203', 'V204', 'V205', 'V206', 'V207', 'V208', 'V209', 'V210', 'V212', 'V214', 'V215', 'V216', 'V217',\n",
        "            'V220', 'V221', 'V222', 'V224', 'V229', 'V232', 'V234', 'V245', 'V251', 'V253', 'V256', 'V257', 'V258', 'V259',\n",
        "            'V260', 'V261', 'V263', 'V264', 'V265', 'V266', 'V267', 'V268', 'V270', 'V271', 'V272', 'V273', 'V274', 'V276',\n",
        "            'V277', 'V278', 'V281', 'V282', 'V283', 'V291', 'V292', 'V293', 'V294', 'V300', 'V303', 'V306', 'V307', 'V308',\n",
        "            'V312', 'V313', 'V315', 'V316', 'V317', 'V318', 'id_01', 'id_02', 'id_03', 'id_05', 'id_06', 'id_09', 'id_11',\n",
        "            'id_15', 'id_16', 'id_17', 'id_18', 'id_19', 'id_20', 'id_31', 'id_36', 'id_37', 'DeviceType', 'DeviceInfo',\n",
        "            'transaction_digits', 'transaction_count', 'trans_hour', 'trans_cent', 'prod_stdq', 'card1_count_q',\n",
        "            'trans_card1_mean', 'trans_card1_mean_rel', 'card1_addr1_mean', 'card2_out', 'card2_q', 'trans_card_mean_q',\n",
        "            'trans_card_std_q', 'trans_card_med', 'addr_trans_q', 'addr_card_q', 'C1_trans_div_q', 'C2_trans_div_q',\n",
        "            'C3_trans_div_q', 'C4_trans_div_q', 'C5_trans_div_q', 'C6_trans_div', 'C6_trans_div_q', 'C7_trans_div',\n",
        "            'C7_trans_div_q', 'C8_trans_div_q', 'C9_trans_div_q', 'C10_trans_div_q', 'C12_trans_div_q', 'C13_trans_div_q',\n",
        "            'C14_trans_div_q', 'TransactionAmt_card1', 'card1_trans_hour', 'addr_card_med_weak']\n",
        "\n",
        "new_features = ['card2_addr1', 'card2_C13', 'card2_card1', 'card3_card1', 'card5_card1',\n",
        "            'card6_card1', 'addr1_C13', 'addr1_card1', 'M4_card1','C1_card1', 'C13_card1']\n",
        "slash_features = ['id_02_card1', 'id_01_card1', 'R_emaildomain_card1']\n",
        "\n",
        "df_train = pipeline(data_trainTR, data_trainID)\n",
        "df_test = pipeline(data_testTR, data_testID)\n",
        "\n",
        "df_train['week'] = data_trainTR['TransactionDT'] // 86400*7\n",
        "df_test['week'] = data_testTR['TransactionDT'] // 86400*7\n",
        "df_train['addr_card_med_weak'] = df_train.groupby(by='week')['addr_card_med'].transform('mean') - df_train['addr_card_med']         \n",
        "df_test['addr_card_med_weak'] = df_test.groupby(by='week')['addr_card_med'].transform('mean') - df_test['addr_card_med']\n",
        "\n",
        "for nf in new_features:\n",
        "    f1, f2 = nf.split(\"_\")\n",
        "    df_train[nf] = df_train[f1].astype('str') + '_' + df_train[f2].astype('str')\n",
        "    df_train[nf+'_transGr'] = df_train.groupby(nf)['TransactionAmt'].transform('mean') - df_train['TransactionAmt']\n",
        "    df_test[nf] = df_test[f1].astype('str') + '_' + df_test[f2].astype('str')\n",
        "    df_test[nf+'_transGr'] = df_test.groupby(nf)['TransactionAmt'].transform('mean') - df_test['TransactionAmt']\n",
        "\n",
        "#slash features\n",
        "#df_train['id_02_transGr'] = df_train.groupby('id_02')['TransactionAmt'].transform('mean') - df_train['TransactionAmt']\n",
        "df_train['id_02_card1'] = df_train['id_02'].astype('str') + '_' + df_train['card1'].astype('str')\n",
        "df_train['id_02_card1_transGr'] = df_train.groupby('id_02_card1')['TransactionAmt'].transform('mean') - df_train['TransactionAmt']\n",
        "df_train['id_01_card1'] = df_train['id_01'].astype('str') + '_' + df_train['card1'].astype('str')\n",
        "df_train['id_01_card1_transGr'] = df_train.groupby('id_01_card1')['TransactionAmt'].transform('mean') - df_train['TransactionAmt']\n",
        "df_train['R_emaildomain_card1'] = df_train['R_emaildomain'].astype('str') + '_' + df_train['card1'].astype('str')\n",
        "df_train['R_emaildomain_card1_transGr'] = df_train.groupby('R_emaildomain_card1')['TransactionAmt'].transform('mean') - df_train['TransactionAmt']\n",
        "\n",
        "#df_test['id_02_transGr'] = df_test.groupby('id_02')['TransactionAmt'].transform('mean') - df_test['TransactionAmt']\n",
        "df_test['id_02_card1'] = df_test['id_02'].astype('str') + '_' + df_test['card1'].astype('str')\n",
        "df_test['id_02_card1_transGr'] = df_test.groupby('id_02_card1')['TransactionAmt'].transform('mean') - df_test['TransactionAmt']\n",
        "df_test['id_01_card1'] = df_test['id_01'].astype('str') + '_' + df_test['card1'].astype('str')\n",
        "df_test['id_01_card1_transGr'] = df_test.groupby('id_01_card1')['TransactionAmt'].transform('mean') - df_test['TransactionAmt']\n",
        "df_test['R_emaildomain_card1'] = df_test['R_emaildomain'].astype('str') + '_' + df_test['card1'].astype('str')\n",
        "df_test['R_emaildomain_card1_transGr'] = df_test.groupby('R_emaildomain_card1')['TransactionAmt'].transform('mean') - df_test['TransactionAmt']\n",
        "\n",
        "new_features = [f+'_transGr' for f in new_features]\n",
        "new_features += [sf+'_transGr' for sf in slash_features]\n",
        "features += new_features\n",
        "\n",
        "df_train = reduce_mem_usage(df_train[features])\n",
        "df_test = reduce_mem_usage(df_test[features])"
      ],
      "execution_count": 0,
      "outputs": [
        {
          "output_type": "stream",
          "text": [
            "Memory usage before: 1037.0 MB\n",
            "Memory usage after: 483.0 MB\n",
            "Optimization: 53.0%\n",
            "Memory usage before: 890.0 MB\n",
            "Memory usage after: 415.0 MB\n",
            "Optimization: 53.0%\n"
          ],
          "name": "stdout"
        }
      ]
    },
    {
      "cell_type": "code",
      "metadata": {
        "id": "RPAXKC1hIlDl",
        "colab_type": "code",
        "outputId": "a5522cd9-0eb9-4d3b-8371-539d4150e96a",
        "colab": {
          "base_uri": "https://localhost:8080/",
          "height": 1000
        }
      },
      "source": [
        "y = data_trainTR['isFraud'].to_numpy().reshape(-1, 1)\n",
        "X = df_train.to_numpy()\n",
        "\n",
        "def objective(params):\n",
        "    model = lgb.LGBMClassifier(**params)\n",
        "\n",
        "    #TimeSeriesSplit 5\n",
        "    TTS5 = TimeSeriesSplit()\n",
        "    tts5_scores = []\n",
        "    for train_ind, test_ind in TTS5.split(X):\n",
        "        train_x, test_x = X[train_ind], X[test_ind]\n",
        "        train_y, test_y = y[train_ind], y[test_ind]\n",
        "        model.fit(train_x, train_y)\n",
        "        tts5_scores.append(roc_auc_score(test_y, model.predict_proba(test_x)[:, 1]))\n",
        "    score = sum(tts5_scores) / 5\n",
        "\n",
        "    score = roc_auc_score(test_y, model.predict_proba(test_x)[:, 1])\n",
        "    print(f\"score: {score}\")\n",
        "    return -score\n",
        "\n",
        "params = {'num_leaves': scope.int(hp.uniform('num_leaves', 200, 500)),\n",
        "          'min_child_weight': hp.uniform('min_child_weight', 0.05, 1),\n",
        "          'feature_fraction': hp.uniform('feature_fraction', 0.05, 1),\n",
        "          'bagging_fraction': hp.uniform('bagging_fraction', 0.05, 1),\n",
        "          'min_data_in_leaf': scope.int(hp.uniform('min_data_in_leaf', 20, 200)),\n",
        "          'objective': 'binary',\n",
        "          'max_depth': -1,\n",
        "          \"boosting_type\": \"gbdt\",\n",
        "          \"bagging_seed\": 47,\n",
        "          \"metric\": 'auc',\n",
        "          \"verbosity\": -1,\n",
        "          'reg_alpha': hp.uniform('reg_alpha', 0.05, 1),\n",
        "          'reg_lambda': hp.uniform('reg_lambda', 0.05, 1),\n",
        "          'random_state': 47\n",
        "         }\n",
        "\n",
        "best_params = fmin(\n",
        "    fn=objective,\n",
        "    space=params,\n",
        "    algo=tpe.suggest,\n",
        "    max_evals=120\n",
        ")\n",
        "\n",
        "print(f\"Best params: {best_params}\")"
      ],
      "execution_count": 0,
      "outputs": [
        {
          "output_type": "stream",
          "text": [
            "score: 0.9205814926526685\n",
            "score: 0.9201041803404983\n",
            "score: 0.9198146696891799\n",
            "score: 0.9174225102925058\n",
            "score: 0.9197957231679296\n",
            "score: 0.9162775375651183\n",
            "score: 0.9191921048445716\n",
            "score: 0.9191217183322544\n",
            "score: 0.9216854868674492\n",
            "score: 0.9218149248166658\n",
            "score: 0.9191541777255936\n",
            "score: 0.921404994091108\n",
            "score: 0.9186846410459183\n",
            "score: 0.9206494752244215\n",
            "score: 0.919078001310036\n",
            "score: 0.9192091183002138\n",
            "score: 0.9148349315934239\n",
            "score: 0.9244136031536875\n",
            "score: 0.9198391830676391\n",
            "score: 0.9215575173046081\n",
            "score: 0.9244133274440094\n",
            "score: 0.9202195725854394\n",
            "score: 0.9180678072451807\n",
            "score: 0.9098250203261539\n",
            "score: 0.9191318204587746\n",
            "score: 0.9221242958583925\n",
            "score: 0.9219521322026544\n",
            "score: 0.9206029949096993\n",
            "score: 0.9234320736017705\n",
            "score: 0.9222947587881392\n",
            "score: 0.922751256568543\n",
            "score: 0.9067427162351197\n",
            "score: 0.9196825644811673\n",
            "score: 0.9198320827689623\n",
            "score: 0.9188170281593323\n",
            "score: 0.9206199804845875\n",
            "score: 0.9152030195030024\n",
            "score: 0.9219511842570195\n",
            "score: 0.922763821494997\n",
            "score: 0.9230574213235636\n",
            "score: 0.9094025277720036\n",
            "score: 0.9233614423583905\n",
            "score: 0.921333036962984\n",
            "score: 0.9211667809292247\n",
            "score: 0.920651464051538\n",
            "score: 0.922010179932411\n",
            "score: 0.9202395197159713\n",
            "score: 0.9220510035519399\n",
            "score: 0.9227199247968086\n",
            "score: 0.9202361709276338\n",
            "score: 0.9202665361665642\n",
            "score: 0.9202030485919226\n",
            "score: 0.9222511285060445\n",
            "score: 0.9131625634261595\n",
            "score: 0.9170606181060305\n",
            "score: 0.9229801172864015\n",
            "score: 0.9213200817059745\n",
            "score: 0.9220581689057092\n",
            "score: 0.9210249298487703\n",
            "score: 0.9234187713842671\n",
            "score: 0.9049517867105469\n",
            "score: 0.9217332961647774\n",
            "score: 0.921517988591208\n",
            "score: 0.9185842610380571\n",
            "score: 0.9185865193791283\n",
            "score: 0.9220535437984124\n",
            "score: 0.9207859298300529\n",
            "score: 0.9223145231448393\n",
            "score: 0.9209524832585211\n",
            "score: 0.9237730118527094\n",
            "score: 0.9201042887656528\n",
            "score: 0.9216453540710464\n",
            "score: 0.9189013023849859\n",
            "score: 0.9199758483278558\n",
            "score: 0.9215595216210323\n",
            "score: 0.9143212163101593\n",
            "score: 0.9183103821961287\n",
            "score: 0.918879124794137\n",
            "score: 0.921211458288524\n",
            "score: 0.9205652226837986\n",
            "score: 0.9225349390921076\n",
            "score: 0.9225430121193116\n",
            "score: 0.910187361702554\n",
            "score: 0.9200552341279808\n",
            "score: 0.9216160142242898\n",
            "score: 0.9221077904520449\n",
            "score: 0.9179021676858703\n",
            "score: 0.9218417708848734\n",
            "score: 0.9215058170931711\n",
            "score: 0.9207088891111225\n",
            "score: 0.921108119822881\n",
            "score: 0.9218458817471525\n",
            "score: 0.9196842187392359\n",
            "score: 0.9222920977250662\n",
            "score: 0.9223389528810363\n",
            "score: 0.9222382475977122\n",
            "score: 0.9210538112120172\n",
            "score: 0.9215216595571467\n",
            "score: 0.9193986516656728\n",
            "score: 0.919203982045761\n",
            "score: 0.9224780778433253\n",
            "score: 0.9232841073426129\n",
            "score: 0.918969284956739\n",
            "score: 0.9183223058652414\n",
            "score: 0.9209004918480982\n",
            "score: 0.9184966937855739\n",
            "score: 0.9211427043492446\n",
            "score: 0.92000821788321\n",
            "score: 0.9119398715481619\n",
            "score: 0.9211586397490669\n",
            "score: 0.9215802432169516\n",
            "score: 0.9224176199772813\n",
            "score: 0.9213795513541834\n",
            "score: 0.9211633299114562\n",
            "score: 0.9194223286215125\n",
            "score: 0.9204708618209325\n",
            "score: 0.9177811218435974\n",
            "score: 0.9170238495872729\n",
            "score: 0.9207939347043027\n",
            "score: 0.9232711737706343\n",
            "100%|██████████| 120/120 [3:53:13<00:00, 116.61s/it, best loss: -0.9244136031536875]\n",
            "Best params: {'bagging_fraction': 0.8222776696117547, 'feature_fraction': 0.3351323087565196, 'min_child_weight': 0.5739977714910283, 'min_data_in_leaf': 37.270542802534365, 'num_leaves': 324.3569379380961, 'reg_alpha': 0.6710767632073783, 'reg_lambda': 0.8049769431013859}\n"
          ],
          "name": "stdout"
        }
      ]
    },
    {
      "cell_type": "code",
      "metadata": {
        "id": "lwLFJpaORMKX",
        "colab_type": "code",
        "colab": {}
      },
      "source": [
        "params = {'bagging_fraction': 0.8222776696117547,\n",
        "          'feature_fraction': 0.3351323087565196,\n",
        "          'min_child_weight': 0.5739977714910283,\n",
        "          'min_data_in_leaf': 37,\n",
        "          'num_leaves': 324,\n",
        "          'reg_alpha': 0.6710767632073783,\n",
        "          'reg_lambda': 0.8049769431013859,\n",
        "          'objective': 'binary',\n",
        "          'metric': 'auc',\n",
        "          'max_depth': -1,\n",
        "          'bagging_seed': 47,\n",
        "          'random_state': 47,\n",
        "          'verbosity': -1,\n",
        "          'learning_rate': 0.02,\n",
        "          'n_estimators': 5000}\n",
        "\n",
        "clf = lgb.LGBMClassifier(**params)\n",
        "\n",
        "y = data_trainTR['isFraud']\n",
        "\n",
        "#get predict\n",
        "clf.fit(df_train[features].to_numpy(), y.to_numpy().reshape(-1, 1))\n",
        "get_predict(clf, df_test[features], data_testTR['TransactionID'], name='tunedModel03.csv')"
      ],
      "execution_count": 0,
      "outputs": []
    }
  ]
}